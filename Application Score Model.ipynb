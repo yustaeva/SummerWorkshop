{
 "cells": [
  {
   "cell_type": "code",
   "execution_count": 2,
   "metadata": {
    "colab": {
     "base_uri": "https://localhost:8080/"
    },
    "executionInfo": {
     "elapsed": 1952,
     "status": "ok",
     "timestamp": 1625148754610,
     "user": {
      "displayName": "Juliana Staeva",
      "photoUrl": "https://lh3.googleusercontent.com/a-/AOh14GgSz4ONtpn5ahQX3v56fic4vTth-KNS6KRCB_n55g=s64",
      "userId": "02722631212774841828"
     },
     "user_tz": -180
    },
    "id": "h5i2ODwrETT0",
    "outputId": "24189dde-205a-4247-a273-e692553f281d"
   },
   "outputs": [
    {
     "name": "stderr",
     "output_type": "stream",
     "text": [
      "/usr/local/lib/python3.7/dist-packages/statsmodels/tools/_testing.py:19: FutureWarning: pandas.util.testing is deprecated. Use the functions in the public API at pandas.testing instead.\n",
      "  import pandas.util.testing as tm\n"
     ]
    }
   ],
   "source": [
    "import pandas as pd\n",
    "import numpy as np\n",
    "import os\n",
    "import statsmodels.api as sm\n",
    "from sklearn.model_selection import train_test_split"
   ]
  },
  {
   "cell_type": "code",
   "execution_count": 3,
   "metadata": {
    "colab": {
     "base_uri": "https://localhost:8080/"
    },
    "executionInfo": {
     "elapsed": 19152,
     "status": "ok",
     "timestamp": 1625148789670,
     "user": {
      "displayName": "Juliana Staeva",
      "photoUrl": "https://lh3.googleusercontent.com/a-/AOh14GgSz4ONtpn5ahQX3v56fic4vTth-KNS6KRCB_n55g=s64",
      "userId": "02722631212774841828"
     },
     "user_tz": -180
    },
    "id": "NUTFrruvErcW",
    "outputId": "9615e37c-b00c-4035-9e92-bffac3056929"
   },
   "outputs": [
    {
     "name": "stdout",
     "output_type": "stream",
     "text": [
      "Mounted at /content/grive\n"
     ]
    }
   ],
   "source": [
    "from google.colab import drive\n",
    "drive.mount(\"/content/grive\")"
   ]
  },
  {
   "cell_type": "code",
   "execution_count": 4,
   "metadata": {
    "executionInfo": {
     "elapsed": 1070,
     "status": "ok",
     "timestamp": 1625148795235,
     "user": {
      "displayName": "Juliana Staeva",
      "photoUrl": "https://lh3.googleusercontent.com/a-/AOh14GgSz4ONtpn5ahQX3v56fic4vTth-KNS6KRCB_n55g=s64",
      "userId": "02722631212774841828"
     },
     "user_tz": -180
    },
    "id": "OlUsuJulFHsT"
   },
   "outputs": [],
   "source": [
    "bank_data = pd.read_csv('/content/grive/MyDrive/BankCaseStudyData.csv')"
   ]
  },
  {
   "cell_type": "code",
   "execution_count": 5,
   "metadata": {
    "colab": {
     "base_uri": "https://localhost:8080/"
    },
    "executionInfo": {
     "elapsed": 442,
     "status": "ok",
     "timestamp": 1625148797713,
     "user": {
      "displayName": "Juliana Staeva",
      "photoUrl": "https://lh3.googleusercontent.com/a-/AOh14GgSz4ONtpn5ahQX3v56fic4vTth-KNS6KRCB_n55g=s64",
      "userId": "02722631212774841828"
     },
     "user_tz": -180
    },
    "id": "3q1P2yyEFLoU",
    "outputId": "e2789044-c09a-4101-8de3-3f15db34a004"
   },
   "outputs": [
    {
     "data": {
      "text/plain": [
       "Index(['Account_Number', 'Account_Type', 'Final_Decision',\n",
       "       'Current_Delinquency_status', 'Application_Date', 'Application_Score',\n",
       "       'Cheque_Card_Flag', 'Existing_Customer_Flag', 'Gross_Annual_Income',\n",
       "       'Home_Telephone_Number', 'Insurance_Required', 'Loan_Amount',\n",
       "       'Loan_Payment_Frequency', 'Loan_Payment_Method', 'Marital_Status',\n",
       "       'Number_of_Dependants', 'Number_of_Payments', 'Occupation_Code',\n",
       "       'Promotion_Type', 'Residential_Status', 'Time_at_Address',\n",
       "       'Time_in_Employment', 'Time_with_Bank', 'Weight_Factor', 'GB_Flag',\n",
       "       'Age_of_Applicant', 'Application_Month', 'Bureau_Score',\n",
       "       'SP_ER_Reference', 'SP_Number_Of_Searches_L6M', 'SP_Number_of_CCJs',\n",
       "       'loan_to_income', 'split'],\n",
       "      dtype='object')"
      ]
     },
     "execution_count": 5,
     "metadata": {
      "tags": []
     },
     "output_type": "execute_result"
    }
   ],
   "source": [
    "bank_data.columns"
   ]
  },
  {
   "cell_type": "markdown",
   "metadata": {
    "id": "lZZLeUrwFbaw"
   },
   "source": [
    "TARGET VARIABLE"
   ]
  },
  {
   "cell_type": "code",
   "execution_count": 6,
   "metadata": {
    "executionInfo": {
     "elapsed": 784,
     "status": "ok",
     "timestamp": 1625148817298,
     "user": {
      "displayName": "Juliana Staeva",
      "photoUrl": "https://lh3.googleusercontent.com/a-/AOh14GgSz4ONtpn5ahQX3v56fic4vTth-KNS6KRCB_n55g=s64",
      "userId": "02722631212774841828"
     },
     "user_tz": -180
    },
    "id": "q5jyKaIpFdYn"
   },
   "outputs": [],
   "source": [
    "bank_data['Target'] = (\n",
    "    np.select(\n",
    "        condlist = [\n",
    "                    ((bank_data['Current_Delinquency_status'].isna()) & (bank_data['Final_Decision'] == 'Accept' )),\n",
    "                    ((bank_data['Current_Delinquency_status'].isna()) & (bank_data['Final_Decision'] == 'Decline')),\n",
    "                    bank_data['Current_Delinquency_status'] < 2,\n",
    "                    bank_data['Current_Delinquency_status'] == 2,\n",
    "                    bank_data['Current_Delinquency_status'] > 2\n",
    "        ],\n",
    "        choicelist = ['NTU', 'Rejects' , 'Good', 'Intermediate', 'Bad']\n",
    "    )\n",
    ")"
   ]
  },
  {
   "cell_type": "code",
   "execution_count": 7,
   "metadata": {
    "executionInfo": {
     "elapsed": 7,
     "status": "ok",
     "timestamp": 1625148820702,
     "user": {
      "displayName": "Juliana Staeva",
      "photoUrl": "https://lh3.googleusercontent.com/a-/AOh14GgSz4ONtpn5ahQX3v56fic4vTth-KNS6KRCB_n55g=s64",
      "userId": "02722631212774841828"
     },
     "user_tz": -180
    },
    "id": "uGgBArBLFkHC"
   },
   "outputs": [],
   "source": [
    "bank_data = bank_data[((bank_data['Target'] == 'Good') | (bank_data['Target'] == 'Bad'))]"
   ]
  },
  {
   "cell_type": "code",
   "execution_count": 8,
   "metadata": {
    "executionInfo": {
     "elapsed": 30,
     "status": "ok",
     "timestamp": 1625148825119,
     "user": {
      "displayName": "Juliana Staeva",
      "photoUrl": "https://lh3.googleusercontent.com/a-/AOh14GgSz4ONtpn5ahQX3v56fic4vTth-KNS6KRCB_n55g=s64",
      "userId": "02722631212774841828"
     },
     "user_tz": -180
    },
    "id": "vsy3qvvkFnP7"
   },
   "outputs": [],
   "source": [
    "bank_data['Num_Target'] = np.where(bank_data['Target'] == 'Good', 1, 0)"
   ]
  },
  {
   "cell_type": "code",
   "execution_count": 9,
   "metadata": {
    "colab": {
     "base_uri": "https://localhost:8080/"
    },
    "executionInfo": {
     "elapsed": 31,
     "status": "ok",
     "timestamp": 1625148829261,
     "user": {
      "displayName": "Juliana Staeva",
      "photoUrl": "https://lh3.googleusercontent.com/a-/AOh14GgSz4ONtpn5ahQX3v56fic4vTth-KNS6KRCB_n55g=s64",
      "userId": "02722631212774841828"
     },
     "user_tz": -180
    },
    "id": "ThondbdBFu8l",
    "outputId": "3ea96421-95c8-4cbe-cb55-fab28e2dbaa5"
   },
   "outputs": [
    {
     "data": {
      "text/plain": [
       "(17968, 35)"
      ]
     },
     "execution_count": 9,
     "metadata": {
      "tags": []
     },
     "output_type": "execute_result"
    }
   ],
   "source": [
    "bank_data.shape"
   ]
  },
  {
   "cell_type": "markdown",
   "metadata": {
    "id": "uWGjCSvfFRdv"
   },
   "source": [
    "PREDICTIVE FEATURES"
   ]
  },
  {
   "cell_type": "markdown",
   "metadata": {
    "id": "LkmtbWoHHlbg"
   },
   "source": [
    "Bureau Score"
   ]
  },
  {
   "cell_type": "code",
   "execution_count": 10,
   "metadata": {
    "colab": {
     "base_uri": "https://localhost:8080/"
    },
    "executionInfo": {
     "elapsed": 332,
     "status": "ok",
     "timestamp": 1625148835141,
     "user": {
      "displayName": "Juliana Staeva",
      "photoUrl": "https://lh3.googleusercontent.com/a-/AOh14GgSz4ONtpn5ahQX3v56fic4vTth-KNS6KRCB_n55g=s64",
      "userId": "02722631212774841828"
     },
     "user_tz": -180
    },
    "id": "TIpfuZq_FTyS",
    "outputId": "20d4967c-536c-4017-f644-2f9a64bbdee5"
   },
   "outputs": [
    {
     "data": {
      "text/plain": [
       "941     633\n",
       "917     621\n",
       "1013    425\n",
       "970     374\n",
       "972     369\n",
       "       ... \n",
       "658       1\n",
       "684       1\n",
       "636       1\n",
       "1035      1\n",
       "672       1\n",
       "Name: Bureau_Score, Length: 357, dtype: int64"
      ]
     },
     "execution_count": 10,
     "metadata": {
      "tags": []
     },
     "output_type": "execute_result"
    }
   ],
   "source": [
    "bank_data['Bureau_Score'].value_counts(dropna=False)"
   ]
  },
  {
   "cell_type": "code",
   "execution_count": 11,
   "metadata": {
    "colab": {
     "base_uri": "https://localhost:8080/"
    },
    "executionInfo": {
     "elapsed": 217,
     "status": "ok",
     "timestamp": 1625148838459,
     "user": {
      "displayName": "Juliana Staeva",
      "photoUrl": "https://lh3.googleusercontent.com/a-/AOh14GgSz4ONtpn5ahQX3v56fic4vTth-KNS6KRCB_n55g=s64",
      "userId": "02722631212774841828"
     },
     "user_tz": -180
    },
    "id": "f2vxx7ozGB6X",
    "outputId": "2ae22951-459b-49de-c4f6-ad2339bba44c"
   },
   "outputs": [
    {
     "data": {
      "text/plain": [
       "count    17968.000000\n",
       "mean       933.011520\n",
       "std         68.032139\n",
       "min        636.000000\n",
       "25%        888.000000\n",
       "50%        941.000000\n",
       "75%        983.000000\n",
       "max       1058.000000\n",
       "Name: Bureau_Score, dtype: float64"
      ]
     },
     "execution_count": 11,
     "metadata": {
      "tags": []
     },
     "output_type": "execute_result"
    }
   ],
   "source": [
    "bank_data['Bureau_Score'].describe()"
   ]
  },
  {
   "cell_type": "code",
   "execution_count": 12,
   "metadata": {
    "colab": {
     "base_uri": "https://localhost:8080/"
    },
    "executionInfo": {
     "elapsed": 222,
     "status": "ok",
     "timestamp": 1625148845669,
     "user": {
      "displayName": "Juliana Staeva",
      "photoUrl": "https://lh3.googleusercontent.com/a-/AOh14GgSz4ONtpn5ahQX3v56fic4vTth-KNS6KRCB_n55g=s64",
      "userId": "02722631212774841828"
     },
     "user_tz": -180
    },
    "id": "qwGc6_h8GGou",
    "outputId": "7e80afa1-bd80-413d-8c27-00e41c4e84f8"
   },
   "outputs": [
    {
     "name": "stderr",
     "output_type": "stream",
     "text": [
      "/usr/local/lib/python3.7/dist-packages/ipykernel_launcher.py:1: FutureWarning: The pandas.np module is deprecated and will be removed from pandas in a future version. Import numpy directly instead\n",
      "  \"\"\"Entry point for launching an IPython kernel.\n"
     ]
    }
   ],
   "source": [
    "bank_data['Bureau_Score_classing'] = pd.cut(bank_data['Bureau_Score'], [636, 830, 935, 970, 995, 1020, pd.np.inf], right=False)"
   ]
  },
  {
   "cell_type": "code",
   "execution_count": 13,
   "metadata": {
    "colab": {
     "base_uri": "https://localhost:8080/"
    },
    "executionInfo": {
     "elapsed": 12,
     "status": "ok",
     "timestamp": 1625148856660,
     "user": {
      "displayName": "Juliana Staeva",
      "photoUrl": "https://lh3.googleusercontent.com/a-/AOh14GgSz4ONtpn5ahQX3v56fic4vTth-KNS6KRCB_n55g=s64",
      "userId": "02722631212774841828"
     },
     "user_tz": -180
    },
    "id": "L28yWAEbGb3q",
    "outputId": "dd71fed4-1977-47e5-d88a-743dd33ec2e0"
   },
   "outputs": [
    {
     "data": {
      "text/plain": [
       "[636.0, 830.0)     1502\n",
       "[830.0, 935.0)     6486\n",
       "[935.0, 970.0)     3227\n",
       "[970.0, 995.0)     2985\n",
       "[995.0, 1020.0)    2529\n",
       "[1020.0, inf)      1239\n",
       "Name: Bureau_Score_classing, dtype: int64"
      ]
     },
     "execution_count": 13,
     "metadata": {
      "tags": []
     },
     "output_type": "execute_result"
    }
   ],
   "source": [
    "bank_data['Bureau_Score_classing'].value_counts(dropna=False).sort_index()"
   ]
  },
  {
   "cell_type": "code",
   "execution_count": 14,
   "metadata": {
    "colab": {
     "base_uri": "https://localhost:8080/"
    },
    "executionInfo": {
     "elapsed": 328,
     "status": "ok",
     "timestamp": 1625148859704,
     "user": {
      "displayName": "Juliana Staeva",
      "photoUrl": "https://lh3.googleusercontent.com/a-/AOh14GgSz4ONtpn5ahQX3v56fic4vTth-KNS6KRCB_n55g=s64",
      "userId": "02722631212774841828"
     },
     "user_tz": -180
    },
    "id": "pJ3GWkWDGj0b",
    "outputId": "3c20be93-1084-4353-99ef-0bce666eb204"
   },
   "outputs": [
    {
     "data": {
      "text/plain": [
       "Bureau_Score_classing\n",
       "[636.0, 830.0)     0.825566\n",
       "[830.0, 935.0)     0.912427\n",
       "[935.0, 970.0)     0.959715\n",
       "[970.0, 995.0)     0.969179\n",
       "[995.0, 1020.0)    0.977066\n",
       "[1020.0, inf)      0.983858\n",
       "Name: Num_Target, dtype: float64"
      ]
     },
     "execution_count": 14,
     "metadata": {
      "tags": []
     },
     "output_type": "execute_result"
    }
   ],
   "source": [
    "bank_data.groupby(['Bureau_Score_classing'])['Num_Target'].mean()"
   ]
  },
  {
   "cell_type": "code",
   "execution_count": 15,
   "metadata": {
    "colab": {
     "base_uri": "https://localhost:8080/",
     "height": 299
    },
    "executionInfo": {
     "elapsed": 235,
     "status": "ok",
     "timestamp": 1625148863273,
     "user": {
      "displayName": "Juliana Staeva",
      "photoUrl": "https://lh3.googleusercontent.com/a-/AOh14GgSz4ONtpn5ahQX3v56fic4vTth-KNS6KRCB_n55g=s64",
      "userId": "02722631212774841828"
     },
     "user_tz": -180
    },
    "id": "m3YZONH6Zs-M",
    "outputId": "03905632-7b5a-4b37-9eb2-728e4e737bf1"
   },
   "outputs": [
    {
     "data": {
      "text/html": [
       "<div>\n",
       "<style scoped>\n",
       "    .dataframe tbody tr th:only-of-type {\n",
       "        vertical-align: middle;\n",
       "    }\n",
       "\n",
       "    .dataframe tbody tr th {\n",
       "        vertical-align: top;\n",
       "    }\n",
       "\n",
       "    .dataframe thead th {\n",
       "        text-align: right;\n",
       "    }\n",
       "</style>\n",
       "<table border=\"1\" class=\"dataframe\">\n",
       "  <thead>\n",
       "    <tr style=\"text-align: right;\">\n",
       "      <th>Target</th>\n",
       "      <th>Bad</th>\n",
       "      <th>Good</th>\n",
       "      <th>All</th>\n",
       "    </tr>\n",
       "    <tr>\n",
       "      <th>Bureau_Score_classing</th>\n",
       "      <th></th>\n",
       "      <th></th>\n",
       "      <th></th>\n",
       "    </tr>\n",
       "  </thead>\n",
       "  <tbody>\n",
       "    <tr>\n",
       "      <th>[636.0, 830.0)</th>\n",
       "      <td>262</td>\n",
       "      <td>1240</td>\n",
       "      <td>1502</td>\n",
       "    </tr>\n",
       "    <tr>\n",
       "      <th>[830.0, 935.0)</th>\n",
       "      <td>568</td>\n",
       "      <td>5918</td>\n",
       "      <td>6486</td>\n",
       "    </tr>\n",
       "    <tr>\n",
       "      <th>[935.0, 970.0)</th>\n",
       "      <td>130</td>\n",
       "      <td>3097</td>\n",
       "      <td>3227</td>\n",
       "    </tr>\n",
       "    <tr>\n",
       "      <th>[970.0, 995.0)</th>\n",
       "      <td>92</td>\n",
       "      <td>2893</td>\n",
       "      <td>2985</td>\n",
       "    </tr>\n",
       "    <tr>\n",
       "      <th>[995.0, 1020.0)</th>\n",
       "      <td>58</td>\n",
       "      <td>2471</td>\n",
       "      <td>2529</td>\n",
       "    </tr>\n",
       "    <tr>\n",
       "      <th>[1020.0, inf)</th>\n",
       "      <td>20</td>\n",
       "      <td>1219</td>\n",
       "      <td>1239</td>\n",
       "    </tr>\n",
       "    <tr>\n",
       "      <th>All</th>\n",
       "      <td>1130</td>\n",
       "      <td>16838</td>\n",
       "      <td>17968</td>\n",
       "    </tr>\n",
       "  </tbody>\n",
       "</table>\n",
       "</div>"
      ],
      "text/plain": [
       "Target                  Bad   Good    All\n",
       "Bureau_Score_classing                    \n",
       "[636.0, 830.0)          262   1240   1502\n",
       "[830.0, 935.0)          568   5918   6486\n",
       "[935.0, 970.0)          130   3097   3227\n",
       "[970.0, 995.0)           92   2893   2985\n",
       "[995.0, 1020.0)          58   2471   2529\n",
       "[1020.0, inf)            20   1219   1239\n",
       "All                    1130  16838  17968"
      ]
     },
     "execution_count": 15,
     "metadata": {
      "tags": []
     },
     "output_type": "execute_result"
    }
   ],
   "source": [
    "pd.crosstab(bank_data['Bureau_Score_classing'],bank_data['Target'], margins=\"Total\")"
   ]
  },
  {
   "cell_type": "markdown",
   "metadata": {
    "id": "zbq9rB4qHhHQ"
   },
   "source": [
    "Cheque Card Flag"
   ]
  },
  {
   "cell_type": "code",
   "execution_count": 16,
   "metadata": {
    "colab": {
     "base_uri": "https://localhost:8080/"
    },
    "executionInfo": {
     "elapsed": 226,
     "status": "ok",
     "timestamp": 1625151661643,
     "user": {
      "displayName": "Juliana Staeva",
      "photoUrl": "https://lh3.googleusercontent.com/a-/AOh14GgSz4ONtpn5ahQX3v56fic4vTth-KNS6KRCB_n55g=s64",
      "userId": "02722631212774841828"
     },
     "user_tz": -180
    },
    "id": "zvl9GqrbHkCn",
    "outputId": "5f5892e9-24d3-4e38-9bc5-d02df4a4b011"
   },
   "outputs": [
    {
     "data": {
      "text/plain": [
       "Y    12235\n",
       "N     5733\n",
       "Name: Cheque_Card_Flag_classing, dtype: int64"
      ]
     },
     "execution_count": 16,
     "metadata": {
      "tags": []
     },
     "output_type": "execute_result"
    }
   ],
   "source": [
    "bank_data['Cheque_Card_Flag_classing'] = np.where(bank_data['Cheque_Card_Flag'] == \"Y\", 'Y', 'N')\n",
    "bank_data['Cheque_Card_Flag_classing'].value_counts(dropna=False)"
   ]
  },
  {
   "cell_type": "code",
   "execution_count": 17,
   "metadata": {
    "colab": {
     "base_uri": "https://localhost:8080/"
    },
    "executionInfo": {
     "elapsed": 223,
     "status": "ok",
     "timestamp": 1625151665090,
     "user": {
      "displayName": "Juliana Staeva",
      "photoUrl": "https://lh3.googleusercontent.com/a-/AOh14GgSz4ONtpn5ahQX3v56fic4vTth-KNS6KRCB_n55g=s64",
      "userId": "02722631212774841828"
     },
     "user_tz": -180
    },
    "id": "NIh_-fr1Hwur",
    "outputId": "b93e2ce7-28d1-479c-8a2b-d9bb9798cae5"
   },
   "outputs": [
    {
     "data": {
      "text/plain": [
       "Cheque_Card_Flag_classing\n",
       "N    0.894122\n",
       "Y    0.957254\n",
       "Name: Num_Target, dtype: float64"
      ]
     },
     "execution_count": 17,
     "metadata": {
      "tags": []
     },
     "output_type": "execute_result"
    }
   ],
   "source": [
    "bank_data.groupby(['Cheque_Card_Flag_classing'])['Num_Target'].mean()"
   ]
  },
  {
   "cell_type": "code",
   "execution_count": 18,
   "metadata": {
    "colab": {
     "base_uri": "https://localhost:8080/",
     "height": 175
    },
    "executionInfo": {
     "elapsed": 229,
     "status": "ok",
     "timestamp": 1625151686856,
     "user": {
      "displayName": "Juliana Staeva",
      "photoUrl": "https://lh3.googleusercontent.com/a-/AOh14GgSz4ONtpn5ahQX3v56fic4vTth-KNS6KRCB_n55g=s64",
      "userId": "02722631212774841828"
     },
     "user_tz": -180
    },
    "id": "TY96hML7loQm",
    "outputId": "4b9e6062-99c2-4975-fbf1-632be7599c26"
   },
   "outputs": [
    {
     "data": {
      "text/html": [
       "<div>\n",
       "<style scoped>\n",
       "    .dataframe tbody tr th:only-of-type {\n",
       "        vertical-align: middle;\n",
       "    }\n",
       "\n",
       "    .dataframe tbody tr th {\n",
       "        vertical-align: top;\n",
       "    }\n",
       "\n",
       "    .dataframe thead th {\n",
       "        text-align: right;\n",
       "    }\n",
       "</style>\n",
       "<table border=\"1\" class=\"dataframe\">\n",
       "  <thead>\n",
       "    <tr style=\"text-align: right;\">\n",
       "      <th>Target</th>\n",
       "      <th>Bad</th>\n",
       "      <th>Good</th>\n",
       "      <th>All</th>\n",
       "    </tr>\n",
       "    <tr>\n",
       "      <th>Cheque_Card_Flag_classing</th>\n",
       "      <th></th>\n",
       "      <th></th>\n",
       "      <th></th>\n",
       "    </tr>\n",
       "  </thead>\n",
       "  <tbody>\n",
       "    <tr>\n",
       "      <th>N</th>\n",
       "      <td>607</td>\n",
       "      <td>5126</td>\n",
       "      <td>5733</td>\n",
       "    </tr>\n",
       "    <tr>\n",
       "      <th>Y</th>\n",
       "      <td>523</td>\n",
       "      <td>11712</td>\n",
       "      <td>12235</td>\n",
       "    </tr>\n",
       "    <tr>\n",
       "      <th>All</th>\n",
       "      <td>1130</td>\n",
       "      <td>16838</td>\n",
       "      <td>17968</td>\n",
       "    </tr>\n",
       "  </tbody>\n",
       "</table>\n",
       "</div>"
      ],
      "text/plain": [
       "Target                      Bad   Good    All\n",
       "Cheque_Card_Flag_classing                    \n",
       "N                           607   5126   5733\n",
       "Y                           523  11712  12235\n",
       "All                        1130  16838  17968"
      ]
     },
     "execution_count": 18,
     "metadata": {
      "tags": []
     },
     "output_type": "execute_result"
    }
   ],
   "source": [
    "pd.crosstab(bank_data['Cheque_Card_Flag_classing'],bank_data['Target'], margins=\"Total\")"
   ]
  },
  {
   "cell_type": "markdown",
   "metadata": {
    "id": "y60DGT7DIXMT"
   },
   "source": [
    "Occupation Code"
   ]
  },
  {
   "cell_type": "code",
   "execution_count": 19,
   "metadata": {
    "colab": {
     "base_uri": "https://localhost:8080/"
    },
    "executionInfo": {
     "elapsed": 220,
     "status": "ok",
     "timestamp": 1625152178920,
     "user": {
      "displayName": "Juliana Staeva",
      "photoUrl": "https://lh3.googleusercontent.com/a-/AOh14GgSz4ONtpn5ahQX3v56fic4vTth-KNS6KRCB_n55g=s64",
      "userId": "02722631212774841828"
     },
     "user_tz": -180
    },
    "id": "OL8a-qm5IajS",
    "outputId": "14274b98-a744-4482-998f-006ca1d3ca87"
   },
   "outputs": [
    {
     "data": {
      "text/plain": [
       "P|B|O    9702\n",
       "M        8266\n",
       "Name: Occupation_Code_classing, dtype: int64"
      ]
     },
     "execution_count": 19,
     "metadata": {
      "tags": []
     },
     "output_type": "execute_result"
    }
   ],
   "source": [
    "bank_data['Occupation_Code_classing'] = np.where(bank_data['Occupation_Code'] == \"M\" , 'M', 'P|B|O')\n",
    "bank_data['Occupation_Code_classing'].value_counts(dropna=False)"
   ]
  },
  {
   "cell_type": "code",
   "execution_count": 20,
   "metadata": {
    "colab": {
     "base_uri": "https://localhost:8080/"
    },
    "executionInfo": {
     "elapsed": 237,
     "status": "ok",
     "timestamp": 1625152180885,
     "user": {
      "displayName": "Juliana Staeva",
      "photoUrl": "https://lh3.googleusercontent.com/a-/AOh14GgSz4ONtpn5ahQX3v56fic4vTth-KNS6KRCB_n55g=s64",
      "userId": "02722631212774841828"
     },
     "user_tz": -180
    },
    "id": "pjRwhPiKqwT4",
    "outputId": "1c2ace4a-03dc-4171-c0bb-f7dee740bb5f"
   },
   "outputs": [
    {
     "data": {
      "text/plain": [
       "Occupation_Code_classing\n",
       "M        0.921849\n",
       "P|B|O    0.950113\n",
       "Name: Num_Target, dtype: float64"
      ]
     },
     "execution_count": 20,
     "metadata": {
      "tags": []
     },
     "output_type": "execute_result"
    }
   ],
   "source": [
    "bank_data.groupby(['Occupation_Code_classing'])['Num_Target'].mean()"
   ]
  },
  {
   "cell_type": "code",
   "execution_count": 21,
   "metadata": {
    "colab": {
     "base_uri": "https://localhost:8080/",
     "height": 175
    },
    "executionInfo": {
     "elapsed": 240,
     "status": "ok",
     "timestamp": 1625152197668,
     "user": {
      "displayName": "Juliana Staeva",
      "photoUrl": "https://lh3.googleusercontent.com/a-/AOh14GgSz4ONtpn5ahQX3v56fic4vTth-KNS6KRCB_n55g=s64",
      "userId": "02722631212774841828"
     },
     "user_tz": -180
    },
    "id": "vo6tbRJSnllj",
    "outputId": "9446768b-a03f-4ced-c921-ebfb1983c3f1"
   },
   "outputs": [
    {
     "data": {
      "text/html": [
       "<div>\n",
       "<style scoped>\n",
       "    .dataframe tbody tr th:only-of-type {\n",
       "        vertical-align: middle;\n",
       "    }\n",
       "\n",
       "    .dataframe tbody tr th {\n",
       "        vertical-align: top;\n",
       "    }\n",
       "\n",
       "    .dataframe thead th {\n",
       "        text-align: right;\n",
       "    }\n",
       "</style>\n",
       "<table border=\"1\" class=\"dataframe\">\n",
       "  <thead>\n",
       "    <tr style=\"text-align: right;\">\n",
       "      <th>Target</th>\n",
       "      <th>Bad</th>\n",
       "      <th>Good</th>\n",
       "      <th>All</th>\n",
       "    </tr>\n",
       "    <tr>\n",
       "      <th>Occupation_Code_classing</th>\n",
       "      <th></th>\n",
       "      <th></th>\n",
       "      <th></th>\n",
       "    </tr>\n",
       "  </thead>\n",
       "  <tbody>\n",
       "    <tr>\n",
       "      <th>M</th>\n",
       "      <td>646</td>\n",
       "      <td>7620</td>\n",
       "      <td>8266</td>\n",
       "    </tr>\n",
       "    <tr>\n",
       "      <th>P|B|O</th>\n",
       "      <td>484</td>\n",
       "      <td>9218</td>\n",
       "      <td>9702</td>\n",
       "    </tr>\n",
       "    <tr>\n",
       "      <th>All</th>\n",
       "      <td>1130</td>\n",
       "      <td>16838</td>\n",
       "      <td>17968</td>\n",
       "    </tr>\n",
       "  </tbody>\n",
       "</table>\n",
       "</div>"
      ],
      "text/plain": [
       "Target                     Bad   Good    All\n",
       "Occupation_Code_classing                    \n",
       "M                          646   7620   8266\n",
       "P|B|O                      484   9218   9702\n",
       "All                       1130  16838  17968"
      ]
     },
     "execution_count": 21,
     "metadata": {
      "tags": []
     },
     "output_type": "execute_result"
    }
   ],
   "source": [
    "pd.crosstab(bank_data['Occupation_Code_classing'],bank_data['Target'], margins=\"Total\")"
   ]
  },
  {
   "cell_type": "markdown",
   "metadata": {
    "id": "hSjb09tsIlKp"
   },
   "source": [
    "Residential Status"
   ]
  },
  {
   "cell_type": "code",
   "execution_count": 23,
   "metadata": {
    "colab": {
     "base_uri": "https://localhost:8080/"
    },
    "executionInfo": {
     "elapsed": 230,
     "status": "ok",
     "timestamp": 1625153928413,
     "user": {
      "displayName": "Juliana Staeva",
      "photoUrl": "https://lh3.googleusercontent.com/a-/AOh14GgSz4ONtpn5ahQX3v56fic4vTth-KNS6KRCB_n55g=s64",
      "userId": "02722631212774841828"
     },
     "user_tz": -180
    },
    "id": "628m_L6iInyU",
    "outputId": "107ee6cc-45fa-4090-96d5-b496694e7fc9"
   },
   "outputs": [
    {
     "data": {
      "text/plain": [
       "H        12202\n",
       "L|O|T     5766\n",
       "Name: Residential_Status_classing, dtype: int64"
      ]
     },
     "execution_count": 23,
     "metadata": {
      "tags": []
     },
     "output_type": "execute_result"
    }
   ],
   "source": [
    "bank_data['Residential_Status_classing'] = np.where(bank_data['Residential_Status'] == \"H\", 'H', 'L|O|T')\n",
    "bank_data['Residential_Status_classing'].value_counts(dropna=False).sort_index()"
   ]
  },
  {
   "cell_type": "code",
   "execution_count": 24,
   "metadata": {
    "colab": {
     "base_uri": "https://localhost:8080/"
    },
    "executionInfo": {
     "elapsed": 232,
     "status": "ok",
     "timestamp": 1625153930585,
     "user": {
      "displayName": "Juliana Staeva",
      "photoUrl": "https://lh3.googleusercontent.com/a-/AOh14GgSz4ONtpn5ahQX3v56fic4vTth-KNS6KRCB_n55g=s64",
      "userId": "02722631212774841828"
     },
     "user_tz": -180
    },
    "id": "kMJv2XSwIu3s",
    "outputId": "3df1afba-5ff3-487c-9a0f-77b00f290471"
   },
   "outputs": [
    {
     "data": {
      "text/plain": [
       "Residential_Status_classing\n",
       "H        0.952713\n",
       "L|O|T    0.904093\n",
       "Name: Num_Target, dtype: float64"
      ]
     },
     "execution_count": 24,
     "metadata": {
      "tags": []
     },
     "output_type": "execute_result"
    }
   ],
   "source": [
    "bank_data.groupby(['Residential_Status_classing'])['Num_Target'].mean()"
   ]
  },
  {
   "cell_type": "code",
   "execution_count": 25,
   "metadata": {
    "colab": {
     "base_uri": "https://localhost:8080/",
     "height": 175
    },
    "executionInfo": {
     "elapsed": 235,
     "status": "ok",
     "timestamp": 1625153933584,
     "user": {
      "displayName": "Juliana Staeva",
      "photoUrl": "https://lh3.googleusercontent.com/a-/AOh14GgSz4ONtpn5ahQX3v56fic4vTth-KNS6KRCB_n55g=s64",
      "userId": "02722631212774841828"
     },
     "user_tz": -180
    },
    "id": "iyk_nWKRuG9E",
    "outputId": "d90227fd-8500-4540-e935-bc6a4b96d91a"
   },
   "outputs": [
    {
     "data": {
      "text/html": [
       "<div>\n",
       "<style scoped>\n",
       "    .dataframe tbody tr th:only-of-type {\n",
       "        vertical-align: middle;\n",
       "    }\n",
       "\n",
       "    .dataframe tbody tr th {\n",
       "        vertical-align: top;\n",
       "    }\n",
       "\n",
       "    .dataframe thead th {\n",
       "        text-align: right;\n",
       "    }\n",
       "</style>\n",
       "<table border=\"1\" class=\"dataframe\">\n",
       "  <thead>\n",
       "    <tr style=\"text-align: right;\">\n",
       "      <th>Target</th>\n",
       "      <th>Bad</th>\n",
       "      <th>Good</th>\n",
       "      <th>All</th>\n",
       "    </tr>\n",
       "    <tr>\n",
       "      <th>Residential_Status_classing</th>\n",
       "      <th></th>\n",
       "      <th></th>\n",
       "      <th></th>\n",
       "    </tr>\n",
       "  </thead>\n",
       "  <tbody>\n",
       "    <tr>\n",
       "      <th>H</th>\n",
       "      <td>577</td>\n",
       "      <td>11625</td>\n",
       "      <td>12202</td>\n",
       "    </tr>\n",
       "    <tr>\n",
       "      <th>L|O|T</th>\n",
       "      <td>553</td>\n",
       "      <td>5213</td>\n",
       "      <td>5766</td>\n",
       "    </tr>\n",
       "    <tr>\n",
       "      <th>All</th>\n",
       "      <td>1130</td>\n",
       "      <td>16838</td>\n",
       "      <td>17968</td>\n",
       "    </tr>\n",
       "  </tbody>\n",
       "</table>\n",
       "</div>"
      ],
      "text/plain": [
       "Target                        Bad   Good    All\n",
       "Residential_Status_classing                    \n",
       "H                             577  11625  12202\n",
       "L|O|T                         553   5213   5766\n",
       "All                          1130  16838  17968"
      ]
     },
     "execution_count": 25,
     "metadata": {
      "tags": []
     },
     "output_type": "execute_result"
    }
   ],
   "source": [
    "pd.crosstab(bank_data['Residential_Status_classing'],bank_data['Target'], margins=\"Total\")"
   ]
  },
  {
   "cell_type": "markdown",
   "metadata": {
    "id": "DNlDxYg1I0OU"
   },
   "source": [
    "Loan Payment Frequency"
   ]
  },
  {
   "cell_type": "code",
   "execution_count": 29,
   "metadata": {
    "colab": {
     "base_uri": "https://localhost:8080/"
    },
    "executionInfo": {
     "elapsed": 234,
     "status": "ok",
     "timestamp": 1625156719970,
     "user": {
      "displayName": "Juliana Staeva",
      "photoUrl": "https://lh3.googleusercontent.com/a-/AOh14GgSz4ONtpn5ahQX3v56fic4vTth-KNS6KRCB_n55g=s64",
      "userId": "02722631212774841828"
     },
     "user_tz": -180
    },
    "id": "RP79mPQTI3NK",
    "outputId": "1dc795ac-173e-4df9-a2c9-08b83496ffb4"
   },
   "outputs": [
    {
     "data": {
      "text/plain": [
       "M        9584\n",
       "F|W|X    8384\n",
       "Name: Loan_Payment_Frequency_classing, dtype: int64"
      ]
     },
     "execution_count": 29,
     "metadata": {
      "tags": []
     },
     "output_type": "execute_result"
    }
   ],
   "source": [
    "bank_data['Loan_Payment_Frequency_classing'] = np.where(bank_data['Loan_Payment_Frequency'] == \"M\", 'M', 'F|W|X')\n",
    "bank_data['Loan_Payment_Frequency_classing'].value_counts(dropna=False)"
   ]
  },
  {
   "cell_type": "code",
   "execution_count": 30,
   "metadata": {
    "colab": {
     "base_uri": "https://localhost:8080/"
    },
    "executionInfo": {
     "elapsed": 234,
     "status": "ok",
     "timestamp": 1625156725871,
     "user": {
      "displayName": "Juliana Staeva",
      "photoUrl": "https://lh3.googleusercontent.com/a-/AOh14GgSz4ONtpn5ahQX3v56fic4vTth-KNS6KRCB_n55g=s64",
      "userId": "02722631212774841828"
     },
     "user_tz": -180
    },
    "id": "wnC9MDtfrGB0",
    "outputId": "b7b67451-5c96-4f23-c27e-addb4ec33bb7"
   },
   "outputs": [
    {
     "data": {
      "text/plain": [
       "Loan_Payment_Frequency_classing\n",
       "F|W|X    0.918177\n",
       "M        0.953673\n",
       "Name: Num_Target, dtype: float64"
      ]
     },
     "execution_count": 30,
     "metadata": {
      "tags": []
     },
     "output_type": "execute_result"
    }
   ],
   "source": [
    "bank_data.groupby(['Loan_Payment_Frequency_classing'])['Num_Target'].mean()"
   ]
  },
  {
   "cell_type": "code",
   "execution_count": 31,
   "metadata": {
    "colab": {
     "base_uri": "https://localhost:8080/",
     "height": 175
    },
    "executionInfo": {
     "elapsed": 295,
     "status": "ok",
     "timestamp": 1625156761393,
     "user": {
      "displayName": "Juliana Staeva",
      "photoUrl": "https://lh3.googleusercontent.com/a-/AOh14GgSz4ONtpn5ahQX3v56fic4vTth-KNS6KRCB_n55g=s64",
      "userId": "02722631212774841828"
     },
     "user_tz": -180
    },
    "id": "uqKeIUh447nd",
    "outputId": "2cca770b-8277-4113-96a7-45d2f73eb4d4"
   },
   "outputs": [
    {
     "data": {
      "text/html": [
       "<div>\n",
       "<style scoped>\n",
       "    .dataframe tbody tr th:only-of-type {\n",
       "        vertical-align: middle;\n",
       "    }\n",
       "\n",
       "    .dataframe tbody tr th {\n",
       "        vertical-align: top;\n",
       "    }\n",
       "\n",
       "    .dataframe thead th {\n",
       "        text-align: right;\n",
       "    }\n",
       "</style>\n",
       "<table border=\"1\" class=\"dataframe\">\n",
       "  <thead>\n",
       "    <tr style=\"text-align: right;\">\n",
       "      <th>Target</th>\n",
       "      <th>Bad</th>\n",
       "      <th>Good</th>\n",
       "      <th>All</th>\n",
       "    </tr>\n",
       "    <tr>\n",
       "      <th>Loan_Payment_Frequency_classing</th>\n",
       "      <th></th>\n",
       "      <th></th>\n",
       "      <th></th>\n",
       "    </tr>\n",
       "  </thead>\n",
       "  <tbody>\n",
       "    <tr>\n",
       "      <th>F|W|X</th>\n",
       "      <td>686</td>\n",
       "      <td>7698</td>\n",
       "      <td>8384</td>\n",
       "    </tr>\n",
       "    <tr>\n",
       "      <th>M</th>\n",
       "      <td>444</td>\n",
       "      <td>9140</td>\n",
       "      <td>9584</td>\n",
       "    </tr>\n",
       "    <tr>\n",
       "      <th>All</th>\n",
       "      <td>1130</td>\n",
       "      <td>16838</td>\n",
       "      <td>17968</td>\n",
       "    </tr>\n",
       "  </tbody>\n",
       "</table>\n",
       "</div>"
      ],
      "text/plain": [
       "Target                            Bad   Good    All\n",
       "Loan_Payment_Frequency_classing                    \n",
       "F|W|X                             686   7698   8384\n",
       "M                                 444   9140   9584\n",
       "All                              1130  16838  17968"
      ]
     },
     "execution_count": 31,
     "metadata": {
      "tags": []
     },
     "output_type": "execute_result"
    }
   ],
   "source": [
    "pd.crosstab(bank_data['Loan_Payment_Frequency_classing'],bank_data['Target'], margins=\"Total\")"
   ]
  },
  {
   "cell_type": "markdown",
   "metadata": {
    "id": "AonxcDOjJDzc"
   },
   "source": [
    "Loan Payment Method"
   ]
  },
  {
   "cell_type": "code",
   "execution_count": 32,
   "metadata": {
    "colab": {
     "base_uri": "https://localhost:8080/"
    },
    "executionInfo": {
     "elapsed": 222,
     "status": "ok",
     "timestamp": 1625157263425,
     "user": {
      "displayName": "Juliana Staeva",
      "photoUrl": "https://lh3.googleusercontent.com/a-/AOh14GgSz4ONtpn5ahQX3v56fic4vTth-KNS6KRCB_n55g=s64",
      "userId": "02722631212774841828"
     },
     "user_tz": -180
    },
    "id": "7SbxIu1FJFxW",
    "outputId": "4143039e-569b-455a-d088-0e12e1e58952"
   },
   "outputs": [
    {
     "data": {
      "text/plain": [
       "B        12359\n",
       "Q|S|X     5609\n",
       "Name: Loan_Payment_Method_classing, dtype: int64"
      ]
     },
     "execution_count": 32,
     "metadata": {
      "tags": []
     },
     "output_type": "execute_result"
    }
   ],
   "source": [
    "bank_data['Loan_Payment_Method_classing'] = np.where(bank_data['Loan_Payment_Method'] == \"B\", 'B', 'Q|S|X')\n",
    "bank_data['Loan_Payment_Method_classing'].value_counts(dropna=False)"
   ]
  },
  {
   "cell_type": "code",
   "execution_count": 33,
   "metadata": {
    "colab": {
     "base_uri": "https://localhost:8080/"
    },
    "executionInfo": {
     "elapsed": 241,
     "status": "ok",
     "timestamp": 1625157265538,
     "user": {
      "displayName": "Juliana Staeva",
      "photoUrl": "https://lh3.googleusercontent.com/a-/AOh14GgSz4ONtpn5ahQX3v56fic4vTth-KNS6KRCB_n55g=s64",
      "userId": "02722631212774841828"
     },
     "user_tz": -180
    },
    "id": "QcPhSO_HrU4x",
    "outputId": "fd3459e3-50ba-4483-bf60-ca50bd68f59f"
   },
   "outputs": [
    {
     "data": {
      "text/plain": [
       "Loan_Payment_Method_classing\n",
       "B        0.948135\n",
       "Q|S|X    0.912819\n",
       "Name: Num_Target, dtype: float64"
      ]
     },
     "execution_count": 33,
     "metadata": {
      "tags": []
     },
     "output_type": "execute_result"
    }
   ],
   "source": [
    "bank_data.groupby(['Loan_Payment_Method_classing'])['Num_Target'].mean()"
   ]
  },
  {
   "cell_type": "code",
   "execution_count": 34,
   "metadata": {
    "colab": {
     "base_uri": "https://localhost:8080/",
     "height": 175
    },
    "executionInfo": {
     "elapsed": 220,
     "status": "ok",
     "timestamp": 1625157287582,
     "user": {
      "displayName": "Juliana Staeva",
      "photoUrl": "https://lh3.googleusercontent.com/a-/AOh14GgSz4ONtpn5ahQX3v56fic4vTth-KNS6KRCB_n55g=s64",
      "userId": "02722631212774841828"
     },
     "user_tz": -180
    },
    "id": "FM8qdGZu6_Dc",
    "outputId": "b5aa78e1-dd83-4908-d830-7d3eba945423"
   },
   "outputs": [
    {
     "data": {
      "text/html": [
       "<div>\n",
       "<style scoped>\n",
       "    .dataframe tbody tr th:only-of-type {\n",
       "        vertical-align: middle;\n",
       "    }\n",
       "\n",
       "    .dataframe tbody tr th {\n",
       "        vertical-align: top;\n",
       "    }\n",
       "\n",
       "    .dataframe thead th {\n",
       "        text-align: right;\n",
       "    }\n",
       "</style>\n",
       "<table border=\"1\" class=\"dataframe\">\n",
       "  <thead>\n",
       "    <tr style=\"text-align: right;\">\n",
       "      <th>Target</th>\n",
       "      <th>Bad</th>\n",
       "      <th>Good</th>\n",
       "      <th>All</th>\n",
       "    </tr>\n",
       "    <tr>\n",
       "      <th>Loan_Payment_Method_classing</th>\n",
       "      <th></th>\n",
       "      <th></th>\n",
       "      <th></th>\n",
       "    </tr>\n",
       "  </thead>\n",
       "  <tbody>\n",
       "    <tr>\n",
       "      <th>B</th>\n",
       "      <td>641</td>\n",
       "      <td>11718</td>\n",
       "      <td>12359</td>\n",
       "    </tr>\n",
       "    <tr>\n",
       "      <th>Q|S|X</th>\n",
       "      <td>489</td>\n",
       "      <td>5120</td>\n",
       "      <td>5609</td>\n",
       "    </tr>\n",
       "    <tr>\n",
       "      <th>All</th>\n",
       "      <td>1130</td>\n",
       "      <td>16838</td>\n",
       "      <td>17968</td>\n",
       "    </tr>\n",
       "  </tbody>\n",
       "</table>\n",
       "</div>"
      ],
      "text/plain": [
       "Target                         Bad   Good    All\n",
       "Loan_Payment_Method_classing                    \n",
       "B                              641  11718  12359\n",
       "Q|S|X                          489   5120   5609\n",
       "All                           1130  16838  17968"
      ]
     },
     "execution_count": 34,
     "metadata": {
      "tags": []
     },
     "output_type": "execute_result"
    }
   ],
   "source": [
    "pd.crosstab(bank_data['Loan_Payment_Method_classing'],bank_data['Target'], margins=\"Total\")"
   ]
  },
  {
   "cell_type": "markdown",
   "metadata": {
    "id": "ytKhg8naJOGS"
   },
   "source": [
    "Insurance Required"
   ]
  },
  {
   "cell_type": "code",
   "execution_count": 35,
   "metadata": {
    "colab": {
     "base_uri": "https://localhost:8080/"
    },
    "executionInfo": {
     "elapsed": 216,
     "status": "ok",
     "timestamp": 1625157702609,
     "user": {
      "displayName": "Juliana Staeva",
      "photoUrl": "https://lh3.googleusercontent.com/a-/AOh14GgSz4ONtpn5ahQX3v56fic4vTth-KNS6KRCB_n55g=s64",
      "userId": "02722631212774841828"
     },
     "user_tz": -180
    },
    "id": "rpz8QqsUJP20",
    "outputId": "40c4f0a2-201f-424f-9282-69d96a2953cb"
   },
   "outputs": [
    {
     "data": {
      "text/plain": [
       "Insurance_Required_classing\n",
       "N        0.951140\n",
       "Y|Nan    0.917479\n",
       "Name: Num_Target, dtype: float64"
      ]
     },
     "execution_count": 35,
     "metadata": {
      "tags": []
     },
     "output_type": "execute_result"
    }
   ],
   "source": [
    "bank_data['Insurance_Required_classing'] = np.where(bank_data['Insurance_Required'] == \"N\", 'N', 'Y|Nan')\n",
    "bank_data.groupby(['Insurance_Required_classing'])['Num_Target'].mean()"
   ]
  },
  {
   "cell_type": "code",
   "execution_count": 36,
   "metadata": {
    "colab": {
     "base_uri": "https://localhost:8080/"
    },
    "executionInfo": {
     "elapsed": 257,
     "status": "ok",
     "timestamp": 1625157704893,
     "user": {
      "displayName": "Juliana Staeva",
      "photoUrl": "https://lh3.googleusercontent.com/a-/AOh14GgSz4ONtpn5ahQX3v56fic4vTth-KNS6KRCB_n55g=s64",
      "userId": "02722631212774841828"
     },
     "user_tz": -180
    },
    "id": "VUYp2gsXrjti",
    "outputId": "a3615104-2bbc-496b-ae11-dd0e75d0e9d4"
   },
   "outputs": [
    {
     "data": {
      "text/plain": [
       "N        10479\n",
       "Y|Nan     7489\n",
       "Name: Insurance_Required_classing, dtype: int64"
      ]
     },
     "execution_count": 36,
     "metadata": {
      "tags": []
     },
     "output_type": "execute_result"
    }
   ],
   "source": [
    "bank_data['Insurance_Required_classing'].value_counts(dropna=False)"
   ]
  },
  {
   "cell_type": "code",
   "execution_count": 37,
   "metadata": {
    "colab": {
     "base_uri": "https://localhost:8080/",
     "height": 175
    },
    "executionInfo": {
     "elapsed": 223,
     "status": "ok",
     "timestamp": 1625157732571,
     "user": {
      "displayName": "Juliana Staeva",
      "photoUrl": "https://lh3.googleusercontent.com/a-/AOh14GgSz4ONtpn5ahQX3v56fic4vTth-KNS6KRCB_n55g=s64",
      "userId": "02722631212774841828"
     },
     "user_tz": -180
    },
    "id": "bq0ejIal8qTr",
    "outputId": "0306cc92-4e93-48c5-e917-dae19c4a27e7"
   },
   "outputs": [
    {
     "data": {
      "text/html": [
       "<div>\n",
       "<style scoped>\n",
       "    .dataframe tbody tr th:only-of-type {\n",
       "        vertical-align: middle;\n",
       "    }\n",
       "\n",
       "    .dataframe tbody tr th {\n",
       "        vertical-align: top;\n",
       "    }\n",
       "\n",
       "    .dataframe thead th {\n",
       "        text-align: right;\n",
       "    }\n",
       "</style>\n",
       "<table border=\"1\" class=\"dataframe\">\n",
       "  <thead>\n",
       "    <tr style=\"text-align: right;\">\n",
       "      <th>Target</th>\n",
       "      <th>Bad</th>\n",
       "      <th>Good</th>\n",
       "      <th>All</th>\n",
       "    </tr>\n",
       "    <tr>\n",
       "      <th>Insurance_Required_classing</th>\n",
       "      <th></th>\n",
       "      <th></th>\n",
       "      <th></th>\n",
       "    </tr>\n",
       "  </thead>\n",
       "  <tbody>\n",
       "    <tr>\n",
       "      <th>N</th>\n",
       "      <td>512</td>\n",
       "      <td>9967</td>\n",
       "      <td>10479</td>\n",
       "    </tr>\n",
       "    <tr>\n",
       "      <th>Y|Nan</th>\n",
       "      <td>618</td>\n",
       "      <td>6871</td>\n",
       "      <td>7489</td>\n",
       "    </tr>\n",
       "    <tr>\n",
       "      <th>All</th>\n",
       "      <td>1130</td>\n",
       "      <td>16838</td>\n",
       "      <td>17968</td>\n",
       "    </tr>\n",
       "  </tbody>\n",
       "</table>\n",
       "</div>"
      ],
      "text/plain": [
       "Target                        Bad   Good    All\n",
       "Insurance_Required_classing                    \n",
       "N                             512   9967  10479\n",
       "Y|Nan                         618   6871   7489\n",
       "All                          1130  16838  17968"
      ]
     },
     "execution_count": 37,
     "metadata": {
      "tags": []
     },
     "output_type": "execute_result"
    }
   ],
   "source": [
    "pd.crosstab(bank_data['Insurance_Required_classing'],bank_data['Target'], margins=\"Total\")"
   ]
  },
  {
   "cell_type": "markdown",
   "metadata": {
    "id": "Ml5os5234ils"
   },
   "source": [
    "Marital Status"
   ]
  },
  {
   "cell_type": "code",
   "execution_count": 26,
   "metadata": {
    "colab": {
     "base_uri": "https://localhost:8080/"
    },
    "executionInfo": {
     "elapsed": 217,
     "status": "ok",
     "timestamp": 1625154394396,
     "user": {
      "displayName": "Juliana Staeva",
      "photoUrl": "https://lh3.googleusercontent.com/a-/AOh14GgSz4ONtpn5ahQX3v56fic4vTth-KNS6KRCB_n55g=s64",
      "userId": "02722631212774841828"
     },
     "user_tz": -180
    },
    "id": "phAsR3t-4kTk",
    "outputId": "5b77d3ef-fde1-4f7e-926f-869bd866d8f4"
   },
   "outputs": [
    {
     "data": {
      "text/plain": [
       "Marital_Status_classing\n",
       "M        0.948336\n",
       "Other    0.920118\n",
       "Name: Num_Target, dtype: float64"
      ]
     },
     "execution_count": 26,
     "metadata": {
      "tags": []
     },
     "output_type": "execute_result"
    }
   ],
   "source": [
    "bank_data['Marital_Status_classing'] = np.where(bank_data['Marital_Status'] == \"M\", 'M' , 'Other')\n",
    "bank_data.groupby(['Marital_Status_classing'])['Num_Target'].mean()"
   ]
  },
  {
   "cell_type": "code",
   "execution_count": 27,
   "metadata": {
    "colab": {
     "base_uri": "https://localhost:8080/"
    },
    "executionInfo": {
     "elapsed": 223,
     "status": "ok",
     "timestamp": 1625154397182,
     "user": {
      "displayName": "Juliana Staeva",
      "photoUrl": "https://lh3.googleusercontent.com/a-/AOh14GgSz4ONtpn5ahQX3v56fic4vTth-KNS6KRCB_n55g=s64",
      "userId": "02722631212774841828"
     },
     "user_tz": -180
    },
    "id": "0ebewjPgr0UA",
    "outputId": "59991c51-3131-4064-a21b-2444eca8a75a"
   },
   "outputs": [
    {
     "data": {
      "text/plain": [
       "M        10820\n",
       "Other     7148\n",
       "Name: Marital_Status_classing, dtype: int64"
      ]
     },
     "execution_count": 27,
     "metadata": {
      "tags": []
     },
     "output_type": "execute_result"
    }
   ],
   "source": [
    "bank_data['Marital_Status_classing'].value_counts(dropna=False)"
   ]
  },
  {
   "cell_type": "code",
   "execution_count": 28,
   "metadata": {
    "colab": {
     "base_uri": "https://localhost:8080/",
     "height": 175
    },
    "executionInfo": {
     "elapsed": 219,
     "status": "ok",
     "timestamp": 1625154418387,
     "user": {
      "displayName": "Juliana Staeva",
      "photoUrl": "https://lh3.googleusercontent.com/a-/AOh14GgSz4ONtpn5ahQX3v56fic4vTth-KNS6KRCB_n55g=s64",
      "userId": "02722631212774841828"
     },
     "user_tz": -180
    },
    "id": "EIPGoAZiwCnE",
    "outputId": "9bcce77e-d928-4ae9-d3a2-78787df68d96"
   },
   "outputs": [
    {
     "data": {
      "text/html": [
       "<div>\n",
       "<style scoped>\n",
       "    .dataframe tbody tr th:only-of-type {\n",
       "        vertical-align: middle;\n",
       "    }\n",
       "\n",
       "    .dataframe tbody tr th {\n",
       "        vertical-align: top;\n",
       "    }\n",
       "\n",
       "    .dataframe thead th {\n",
       "        text-align: right;\n",
       "    }\n",
       "</style>\n",
       "<table border=\"1\" class=\"dataframe\">\n",
       "  <thead>\n",
       "    <tr style=\"text-align: right;\">\n",
       "      <th>Target</th>\n",
       "      <th>Bad</th>\n",
       "      <th>Good</th>\n",
       "      <th>All</th>\n",
       "    </tr>\n",
       "    <tr>\n",
       "      <th>Marital_Status_classing</th>\n",
       "      <th></th>\n",
       "      <th></th>\n",
       "      <th></th>\n",
       "    </tr>\n",
       "  </thead>\n",
       "  <tbody>\n",
       "    <tr>\n",
       "      <th>M</th>\n",
       "      <td>559</td>\n",
       "      <td>10261</td>\n",
       "      <td>10820</td>\n",
       "    </tr>\n",
       "    <tr>\n",
       "      <th>Other</th>\n",
       "      <td>571</td>\n",
       "      <td>6577</td>\n",
       "      <td>7148</td>\n",
       "    </tr>\n",
       "    <tr>\n",
       "      <th>All</th>\n",
       "      <td>1130</td>\n",
       "      <td>16838</td>\n",
       "      <td>17968</td>\n",
       "    </tr>\n",
       "  </tbody>\n",
       "</table>\n",
       "</div>"
      ],
      "text/plain": [
       "Target                    Bad   Good    All\n",
       "Marital_Status_classing                    \n",
       "M                         559  10261  10820\n",
       "Other                     571   6577   7148\n",
       "All                      1130  16838  17968"
      ]
     },
     "execution_count": 28,
     "metadata": {
      "tags": []
     },
     "output_type": "execute_result"
    }
   ],
   "source": [
    "pd.crosstab(bank_data['Marital_Status_classing'],bank_data['Target'], margins=\"Total\")"
   ]
  },
  {
   "cell_type": "markdown",
   "metadata": {
    "id": "gRkeHwQpJYAY"
   },
   "source": [
    "DUMMY VARIABLES"
   ]
  },
  {
   "cell_type": "code",
   "execution_count": null,
   "metadata": {
    "id": "DzBLC7eUJhQE"
   },
   "outputs": [],
   "source": [
    "bank_data_model = bank_data[['Target', 'Num_Target', 'Bureau_Score' , 'Bureau_Score_classing', 'Cheque_Card_Flag', 'Cheque_Card_Flag_classing', 'Occupation_Code','Occupation_Code_classing', 'Residential_Status','Residential_Status_classing', 'Loan_Payment_Frequency', 'Loan_Payment_Frequency_classing', 'Loan_Payment_Method','Loan_Payment_Method_classing','Insurance_Required','Insurance_Required_classing', 'Marital_Status', 'Marital_Status_classing']].copy()"
   ]
  },
  {
   "cell_type": "code",
   "execution_count": null,
   "metadata": {
    "id": "AwOw7dpUJ5od"
   },
   "outputs": [],
   "source": [
    "bank_data_model = pd.concat([bank_data_model,\n",
    "                             pd.get_dummies(bank_data_model['Bureau_Score_classing'], prefix='Bureau_Score', dummy_na=False),\n",
    "                             pd.get_dummies(bank_data_model['Cheque_Card_Flag_classing'], prefix='Cheque_Card_Flag', dummy_na=False),\n",
    "                             pd.get_dummies(bank_data_model['Occupation_Code_classing'], prefix='Occupation_code', dummy_na=False),\n",
    "                             pd.get_dummies(bank_data_model['Residential_Status_classing'], prefix='Residential_Status', dummy_na=False),\n",
    "                             pd.get_dummies(bank_data_model['Loan_Payment_Frequency_classing'], prefix='Loan_Payment_Frequency', dummy_na=False),\n",
    "                             pd.get_dummies(bank_data_model['Loan_Payment_Method_classing'], prefix='Loan_Payment_Method', dummy_na=False),\n",
    "                             pd.get_dummies(bank_data_model['Insurance_Required_classing'], prefix='Insurance_Required', dummy_na=False),\n",
    "                             pd.get_dummies(bank_data_model['Marital_Status_classing'], prefix='Marital_Status', dummy_na=False),],\n",
    "                                                            axis=1, ignore_index=False, join='outer')"
   ]
  },
  {
   "cell_type": "code",
   "execution_count": null,
   "metadata": {
    "colab": {
     "base_uri": "https://localhost:8080/"
    },
    "executionInfo": {
     "elapsed": 8,
     "status": "ok",
     "timestamp": 1625119799881,
     "user": {
      "displayName": "Juliana Staeva",
      "photoUrl": "https://lh3.googleusercontent.com/a-/AOh14GgSz4ONtpn5ahQX3v56fic4vTth-KNS6KRCB_n55g=s64",
      "userId": "02722631212774841828"
     },
     "user_tz": -180
    },
    "id": "pksVEncJKMtH",
    "outputId": "f18e86e1-04f5-4d49-b12a-ec658b39f2b4"
   },
   "outputs": [
    {
     "data": {
      "text/plain": [
       "Index(['Target', 'Num_Target', 'Bureau_Score', 'Bureau_Score_classing',\n",
       "       'Cheque_Card_Flag', 'Cheque_Card_Flag_classing', 'Occupation_Code',\n",
       "       'Occupation_Code_classing', 'Residential_Status',\n",
       "       'Residential_Status_classing', 'Loan_Payment_Frequency',\n",
       "       'Loan_Payment_Frequency_classing', 'Loan_Payment_Method',\n",
       "       'Loan_Payment_Method_classing', 'Insurance_Required',\n",
       "       'Insurance_Required_classing', 'Marital_Status',\n",
       "       'Marital_Status_classing', 'Bureau_Score_[636.0, 830.0)',\n",
       "       'Bureau_Score_[830.0, 935.0)', 'Bureau_Score_[935.0, 970.0)',\n",
       "       'Bureau_Score_[970.0, 995.0)', 'Bureau_Score_[995.0, 1020.0)',\n",
       "       'Bureau_Score_[1020.0, inf)', 'Cheque_Card_Flag_N',\n",
       "       'Cheque_Card_Flag_Y', 'Occupation_code_M', 'Occupation_code_P|B|O',\n",
       "       'Residential_Status_H', 'Residential_Status_L|O|T',\n",
       "       'Loan_Payment_Frequency_F|W|X', 'Loan_Payment_Frequency_M',\n",
       "       'Loan_Payment_Method_B', 'Loan_Payment_Method_Q|S|X',\n",
       "       'Insurance_Required_N', 'Insurance_Required_Y|Nan', 'Marital_Status_M',\n",
       "       'Marital_Status_Other'],\n",
       "      dtype='object')"
      ]
     },
     "execution_count": 31,
     "metadata": {
      "tags": []
     },
     "output_type": "execute_result"
    }
   ],
   "source": [
    "bank_data_model.columns"
   ]
  },
  {
   "cell_type": "markdown",
   "metadata": {
    "id": "QhqJCzcXKTah"
   },
   "source": [
    "Split data frama into training and test sets"
   ]
  },
  {
   "cell_type": "code",
   "execution_count": null,
   "metadata": {
    "id": "_VWFd8VdKWra"
   },
   "outputs": [],
   "source": [
    "x_train,x_test,y_train,y_test = train_test_split(bank_data_model,bank_data_model['Num_Target'], test_size=0.2,random_state=42)"
   ]
  },
  {
   "cell_type": "code",
   "execution_count": null,
   "metadata": {
    "colab": {
     "base_uri": "https://localhost:8080/"
    },
    "executionInfo": {
     "elapsed": 11,
     "status": "ok",
     "timestamp": 1625119813689,
     "user": {
      "displayName": "Juliana Staeva",
      "photoUrl": "https://lh3.googleusercontent.com/a-/AOh14GgSz4ONtpn5ahQX3v56fic4vTth-KNS6KRCB_n55g=s64",
      "userId": "02722631212774841828"
     },
     "user_tz": -180
    },
    "id": "yP785Z3sKa1D",
    "outputId": "2de4fc65-0582-4bb8-f3e6-190254117496"
   },
   "outputs": [
    {
     "name": "stderr",
     "output_type": "stream",
     "text": [
      "/usr/local/lib/python3.7/dist-packages/ipykernel_launcher.py:1: SettingWithCopyWarning: \n",
      "A value is trying to be set on a copy of a slice from a DataFrame.\n",
      "Try using .loc[row_indexer,col_indexer] = value instead\n",
      "\n",
      "See the caveats in the documentation: https://pandas.pydata.org/pandas-docs/stable/user_guide/indexing.html#returning-a-view-versus-a-copy\n",
      "  \"\"\"Entry point for launching an IPython kernel.\n",
      "/usr/local/lib/python3.7/dist-packages/ipykernel_launcher.py:2: SettingWithCopyWarning: \n",
      "A value is trying to be set on a copy of a slice from a DataFrame.\n",
      "Try using .loc[row_indexer,col_indexer] = value instead\n",
      "\n",
      "See the caveats in the documentation: https://pandas.pydata.org/pandas-docs/stable/user_guide/indexing.html#returning-a-view-versus-a-copy\n",
      "  \n"
     ]
    }
   ],
   "source": [
    "x_train['sample']='Training'\n",
    "x_test['sample'] = 'Testing'"
   ]
  },
  {
   "cell_type": "code",
   "execution_count": null,
   "metadata": {
    "colab": {
     "base_uri": "https://localhost:8080/"
    },
    "executionInfo": {
     "elapsed": 278,
     "status": "ok",
     "timestamp": 1625119820353,
     "user": {
      "displayName": "Juliana Staeva",
      "photoUrl": "https://lh3.googleusercontent.com/a-/AOh14GgSz4ONtpn5ahQX3v56fic4vTth-KNS6KRCB_n55g=s64",
      "userId": "02722631212774841828"
     },
     "user_tz": -180
    },
    "id": "UZuhOVvkKe0e",
    "outputId": "43282696-ffe1-49f0-8542-e7ea35526f06"
   },
   "outputs": [
    {
     "data": {
      "text/plain": [
       "(17968, 39)"
      ]
     },
     "execution_count": 34,
     "metadata": {
      "tags": []
     },
     "output_type": "execute_result"
    }
   ],
   "source": [
    "bank_data_model = pd.concat([x_train,x_test], ignore_index=False, sort=False)\n",
    "bank_data_model = bank_data_model.reset_index(drop=True)\n",
    "bank_data_model.shape"
   ]
  },
  {
   "cell_type": "code",
   "execution_count": null,
   "metadata": {
    "id": "eNSAh0DQKjW5"
   },
   "outputs": [],
   "source": [
    "y = bank_data_model[bank_data_model['sample'] == \"Training\"]['Num_Target']\n",
    "x = bank_data_model[bank_data_model['sample'] == \"Training\"][['Bureau_Score_[636.0, 830.0)',\n",
    "                                                              'Bureau_Score_[830.0, 935.0)',\n",
    "                                                              'Bureau_Score_[935.0, 970.0)',\n",
    "                                                              'Bureau_Score_[970.0, 995.0)',\n",
    "                                                              'Bureau_Score_[995.0, 1020.0)',\n",
    "                                                              'Bureau_Score_[1020.0, inf)',\n",
    "                                                              'Cheque_Card_Flag_N',\n",
    "                                                              'Cheque_Card_Flag_Y',\n",
    "                                                              'Occupation_code_P|B|O',\n",
    "                                                              'Occupation_code_M',\n",
    "                                                              'Residential_Status_H',\n",
    "                                                              'Residential_Status_L|O|T',\n",
    "                                                              'Loan_Payment_Frequency_F|W|X',\n",
    "                                                              'Loan_Payment_Frequency_M',\n",
    "                                                              'Loan_Payment_Method_B',\n",
    "                                                              'Loan_Payment_Method_Q|S|X',\n",
    "                                                              'Insurance_Required_N',\n",
    "                                                              'Insurance_Required_Y|Nan',\n",
    "                                                              'Marital_Status_M',\n",
    "                                                              'Marital_Status_Other'\n",
    "                                                              ]]"
   ]
  },
  {
   "cell_type": "code",
   "execution_count": null,
   "metadata": {
    "colab": {
     "base_uri": "https://localhost:8080/"
    },
    "executionInfo": {
     "elapsed": 284,
     "status": "ok",
     "timestamp": 1625119830618,
     "user": {
      "displayName": "Juliana Staeva",
      "photoUrl": "https://lh3.googleusercontent.com/a-/AOh14GgSz4ONtpn5ahQX3v56fic4vTth-KNS6KRCB_n55g=s64",
      "userId": "02722631212774841828"
     },
     "user_tz": -180
    },
    "id": "pcfCkWzALhHC",
    "outputId": "f569869a-f50f-4f4d-ae0e-5a2962f3bca1"
   },
   "outputs": [
    {
     "data": {
      "text/plain": [
       "Training    14374\n",
       "Testing      3594\n",
       "Name: sample, dtype: int64"
      ]
     },
     "execution_count": 36,
     "metadata": {
      "tags": []
     },
     "output_type": "execute_result"
    }
   ],
   "source": [
    "bank_data_model['sample'].value_counts(dropna=False)"
   ]
  },
  {
   "cell_type": "markdown",
   "metadata": {
    "id": "_8PT0vQ2LnHn"
   },
   "source": [
    "MODEL"
   ]
  },
  {
   "cell_type": "code",
   "execution_count": null,
   "metadata": {
    "colab": {
     "base_uri": "https://localhost:8080/"
    },
    "executionInfo": {
     "elapsed": 1713,
     "status": "ok",
     "timestamp": 1625119874497,
     "user": {
      "displayName": "Juliana Staeva",
      "photoUrl": "https://lh3.googleusercontent.com/a-/AOh14GgSz4ONtpn5ahQX3v56fic4vTth-KNS6KRCB_n55g=s64",
      "userId": "02722631212774841828"
     },
     "user_tz": -180
    },
    "id": "uaBF6qs1LlOr",
    "outputId": "9225d944-5e32-4d4b-b81e-51f62eba345b"
   },
   "outputs": [
    {
     "name": "stderr",
     "output_type": "stream",
     "text": [
      "/usr/local/lib/python3.7/dist-packages/ipykernel_launcher.py:2: DeprecationWarning: Calling Family(..) with a link class as argument is deprecated.\n",
      "Use an instance of a link class instead.\n",
      "  \n"
     ]
    },
    {
     "name": "stdout",
     "output_type": "stream",
     "text": [
      "                 Generalized Linear Model Regression Results                  \n",
      "==============================================================================\n",
      "Dep. Variable:             Num_Target   No. Observations:                14374\n",
      "Model:                            GLM   Df Residuals:                    14361\n",
      "Model Family:                Binomial   Df Model:                           12\n",
      "Link Function:                  logit   Scale:                          1.0000\n",
      "Method:                          IRLS   Log-Likelihood:                -3195.1\n",
      "Date:                Thu, 01 Jul 2021   Deviance:                       6390.3\n",
      "Time:                        06:11:13   Pearson chi2:                 1.43e+04\n",
      "No. Iterations:                   100                                         \n",
      "Covariance Type:            nonrobust                                         \n",
      "================================================================================================\n",
      "                                   coef    std err          z      P>|z|      [0.025      0.975]\n",
      "------------------------------------------------------------------------------------------------\n",
      "const                            0.6122      0.013     46.855      0.000       0.587       0.638\n",
      "Bureau_Score_[636.0, 830.0)     -1.1097      0.097    -11.452      0.000      -1.300      -0.920\n",
      "Bureau_Score_[830.0, 935.0)     -0.4672      0.073     -6.384      0.000      -0.611      -0.324\n",
      "Bureau_Score_[935.0, 970.0)      0.2633      0.097      2.714      0.007       0.073       0.454\n",
      "Bureau_Score_[970.0, 995.0)      0.5034      0.112      4.483      0.000       0.283       0.723\n",
      "Bureau_Score_[995.0, 1020.0)     0.6701      0.140      4.780      0.000       0.395       0.945\n",
      "Bureau_Score_[1020.0, inf)       0.7523      0.203      3.703      0.000       0.354       1.151\n",
      "Cheque_Card_Flag_N               0.1170      0.041      2.878      0.004       0.037       0.197\n",
      "Cheque_Card_Flag_Y               0.4952      0.039     12.857      0.000       0.420       0.571\n",
      "Occupation_code_P|B|O            0.2914      0.039      7.402      0.000       0.214       0.369\n",
      "Occupation_code_M                0.3208      0.040      7.971      0.000       0.242       0.400\n",
      "Residential_Status_H             0.3385      0.044      7.643      0.000       0.252       0.425\n",
      "Residential_Status_L|O|T         0.2737      0.047      5.862      0.000       0.182       0.365\n",
      "Loan_Payment_Frequency_F|W|X     0.2970      0.043      6.900      0.000       0.213       0.381\n",
      "Loan_Payment_Frequency_M         0.3152      0.044      7.147      0.000       0.229       0.402\n",
      "Loan_Payment_Method_B            0.4676      0.038     12.202      0.000       0.392       0.543\n",
      "Loan_Payment_Method_Q|S|X        0.1446      0.042      3.449      0.001       0.062       0.227\n",
      "Insurance_Required_N             0.3679      0.037      9.910      0.000       0.295       0.441\n",
      "Insurance_Required_Y|Nan         0.2443      0.039      6.217      0.000       0.167       0.321\n",
      "Marital_Status_M                 0.3211      0.042      7.557      0.000       0.238       0.404\n",
      "Marital_Status_Other             0.2911      0.043      6.761      0.000       0.207       0.375\n",
      "================================================================================================\n"
     ]
    }
   ],
   "source": [
    "x = sm.tools.tools.add_constant(x)\n",
    "model_1 = sm.GLM(y,x,family=sm.genmod.families.Binomial(link=sm.genmod.families.links.logit))\n",
    "model_final = model_1.fit()\n",
    "print(model_final.summary())"
   ]
  },
  {
   "cell_type": "markdown",
   "metadata": {
    "id": "8PtdO68CRrNL"
   },
   "source": [
    "PREDICTION"
   ]
  },
  {
   "cell_type": "code",
   "execution_count": null,
   "metadata": {
    "colab": {
     "base_uri": "https://localhost:8080/",
     "height": 459
    },
    "executionInfo": {
     "elapsed": 313,
     "status": "ok",
     "timestamp": 1625120592845,
     "user": {
      "displayName": "Juliana Staeva",
      "photoUrl": "https://lh3.googleusercontent.com/a-/AOh14GgSz4ONtpn5ahQX3v56fic4vTth-KNS6KRCB_n55g=s64",
      "userId": "02722631212774841828"
     },
     "user_tz": -180
    },
    "id": "loQhSExFRtHl",
    "outputId": "8556f95a-b67a-4a5b-d59b-84ae2681665b"
   },
   "outputs": [
    {
     "data": {
      "text/html": [
       "<div>\n",
       "<style scoped>\n",
       "    .dataframe tbody tr th:only-of-type {\n",
       "        vertical-align: middle;\n",
       "    }\n",
       "\n",
       "    .dataframe tbody tr th {\n",
       "        vertical-align: top;\n",
       "    }\n",
       "\n",
       "    .dataframe thead th {\n",
       "        text-align: right;\n",
       "    }\n",
       "</style>\n",
       "<table border=\"1\" class=\"dataframe\">\n",
       "  <thead>\n",
       "    <tr style=\"text-align: right;\">\n",
       "      <th></th>\n",
       "      <th>const</th>\n",
       "      <th>Bureau_Score_[636.0, 830.0)</th>\n",
       "      <th>Bureau_Score_[830.0, 935.0)</th>\n",
       "      <th>Bureau_Score_[935.0, 970.0)</th>\n",
       "      <th>Bureau_Score_[970.0, 995.0)</th>\n",
       "      <th>Bureau_Score_[995.0, 1020.0)</th>\n",
       "      <th>Bureau_Score_[1020.0, inf)</th>\n",
       "      <th>Cheque_Card_Flag_N</th>\n",
       "      <th>Cheque_Card_Flag_Y</th>\n",
       "      <th>Occupation_code_P|B|O</th>\n",
       "      <th>Occupation_code_M</th>\n",
       "      <th>Residential_Status_H</th>\n",
       "      <th>Residential_Status_L|O|T</th>\n",
       "      <th>Loan_Payment_Frequency_F|W|X</th>\n",
       "      <th>Loan_Payment_Frequency_M</th>\n",
       "      <th>Loan_Payment_Method_B</th>\n",
       "      <th>Loan_Payment_Method_Q|S|X</th>\n",
       "      <th>Insurance_Required_N</th>\n",
       "      <th>Insurance_Required_Y|Nan</th>\n",
       "      <th>Marital_Status_M</th>\n",
       "      <th>Marital_Status_Other</th>\n",
       "      <th>Prediction</th>\n",
       "    </tr>\n",
       "  </thead>\n",
       "  <tbody>\n",
       "    <tr>\n",
       "      <th>0</th>\n",
       "      <td>1.0</td>\n",
       "      <td>0</td>\n",
       "      <td>0</td>\n",
       "      <td>0</td>\n",
       "      <td>0</td>\n",
       "      <td>0</td>\n",
       "      <td>1</td>\n",
       "      <td>0</td>\n",
       "      <td>1</td>\n",
       "      <td>1</td>\n",
       "      <td>0</td>\n",
       "      <td>1</td>\n",
       "      <td>0</td>\n",
       "      <td>0</td>\n",
       "      <td>1</td>\n",
       "      <td>1</td>\n",
       "      <td>0</td>\n",
       "      <td>1</td>\n",
       "      <td>0</td>\n",
       "      <td>0</td>\n",
       "      <td>1</td>\n",
       "      <td>0.980759</td>\n",
       "    </tr>\n",
       "    <tr>\n",
       "      <th>1</th>\n",
       "      <td>1.0</td>\n",
       "      <td>0</td>\n",
       "      <td>0</td>\n",
       "      <td>0</td>\n",
       "      <td>0</td>\n",
       "      <td>1</td>\n",
       "      <td>0</td>\n",
       "      <td>0</td>\n",
       "      <td>1</td>\n",
       "      <td>1</td>\n",
       "      <td>0</td>\n",
       "      <td>1</td>\n",
       "      <td>0</td>\n",
       "      <td>0</td>\n",
       "      <td>1</td>\n",
       "      <td>1</td>\n",
       "      <td>0</td>\n",
       "      <td>1</td>\n",
       "      <td>0</td>\n",
       "      <td>1</td>\n",
       "      <td>0</td>\n",
       "      <td>0.979749</td>\n",
       "    </tr>\n",
       "    <tr>\n",
       "      <th>2</th>\n",
       "      <td>1.0</td>\n",
       "      <td>0</td>\n",
       "      <td>0</td>\n",
       "      <td>0</td>\n",
       "      <td>0</td>\n",
       "      <td>1</td>\n",
       "      <td>0</td>\n",
       "      <td>0</td>\n",
       "      <td>1</td>\n",
       "      <td>1</td>\n",
       "      <td>0</td>\n",
       "      <td>1</td>\n",
       "      <td>0</td>\n",
       "      <td>0</td>\n",
       "      <td>1</td>\n",
       "      <td>1</td>\n",
       "      <td>0</td>\n",
       "      <td>1</td>\n",
       "      <td>0</td>\n",
       "      <td>1</td>\n",
       "      <td>0</td>\n",
       "      <td>0.979749</td>\n",
       "    </tr>\n",
       "    <tr>\n",
       "      <th>3</th>\n",
       "      <td>1.0</td>\n",
       "      <td>0</td>\n",
       "      <td>0</td>\n",
       "      <td>1</td>\n",
       "      <td>0</td>\n",
       "      <td>0</td>\n",
       "      <td>0</td>\n",
       "      <td>1</td>\n",
       "      <td>0</td>\n",
       "      <td>0</td>\n",
       "      <td>1</td>\n",
       "      <td>1</td>\n",
       "      <td>0</td>\n",
       "      <td>0</td>\n",
       "      <td>1</td>\n",
       "      <td>0</td>\n",
       "      <td>1</td>\n",
       "      <td>1</td>\n",
       "      <td>0</td>\n",
       "      <td>1</td>\n",
       "      <td>0</td>\n",
       "      <td>0.942712</td>\n",
       "    </tr>\n",
       "    <tr>\n",
       "      <th>4</th>\n",
       "      <td>1.0</td>\n",
       "      <td>0</td>\n",
       "      <td>0</td>\n",
       "      <td>1</td>\n",
       "      <td>0</td>\n",
       "      <td>0</td>\n",
       "      <td>0</td>\n",
       "      <td>0</td>\n",
       "      <td>1</td>\n",
       "      <td>1</td>\n",
       "      <td>0</td>\n",
       "      <td>1</td>\n",
       "      <td>0</td>\n",
       "      <td>0</td>\n",
       "      <td>1</td>\n",
       "      <td>1</td>\n",
       "      <td>0</td>\n",
       "      <td>1</td>\n",
       "      <td>0</td>\n",
       "      <td>1</td>\n",
       "      <td>0</td>\n",
       "      <td>0.969890</td>\n",
       "    </tr>\n",
       "    <tr>\n",
       "      <th>...</th>\n",
       "      <td>...</td>\n",
       "      <td>...</td>\n",
       "      <td>...</td>\n",
       "      <td>...</td>\n",
       "      <td>...</td>\n",
       "      <td>...</td>\n",
       "      <td>...</td>\n",
       "      <td>...</td>\n",
       "      <td>...</td>\n",
       "      <td>...</td>\n",
       "      <td>...</td>\n",
       "      <td>...</td>\n",
       "      <td>...</td>\n",
       "      <td>...</td>\n",
       "      <td>...</td>\n",
       "      <td>...</td>\n",
       "      <td>...</td>\n",
       "      <td>...</td>\n",
       "      <td>...</td>\n",
       "      <td>...</td>\n",
       "      <td>...</td>\n",
       "      <td>...</td>\n",
       "    </tr>\n",
       "    <tr>\n",
       "      <th>14369</th>\n",
       "      <td>1.0</td>\n",
       "      <td>0</td>\n",
       "      <td>1</td>\n",
       "      <td>0</td>\n",
       "      <td>0</td>\n",
       "      <td>0</td>\n",
       "      <td>0</td>\n",
       "      <td>1</td>\n",
       "      <td>0</td>\n",
       "      <td>1</td>\n",
       "      <td>0</td>\n",
       "      <td>0</td>\n",
       "      <td>1</td>\n",
       "      <td>0</td>\n",
       "      <td>1</td>\n",
       "      <td>1</td>\n",
       "      <td>0</td>\n",
       "      <td>0</td>\n",
       "      <td>1</td>\n",
       "      <td>0</td>\n",
       "      <td>1</td>\n",
       "      <td>0.895220</td>\n",
       "    </tr>\n",
       "    <tr>\n",
       "      <th>14370</th>\n",
       "      <td>1.0</td>\n",
       "      <td>0</td>\n",
       "      <td>1</td>\n",
       "      <td>0</td>\n",
       "      <td>0</td>\n",
       "      <td>0</td>\n",
       "      <td>0</td>\n",
       "      <td>0</td>\n",
       "      <td>1</td>\n",
       "      <td>1</td>\n",
       "      <td>0</td>\n",
       "      <td>0</td>\n",
       "      <td>1</td>\n",
       "      <td>0</td>\n",
       "      <td>1</td>\n",
       "      <td>1</td>\n",
       "      <td>0</td>\n",
       "      <td>1</td>\n",
       "      <td>0</td>\n",
       "      <td>0</td>\n",
       "      <td>1</td>\n",
       "      <td>0.933819</td>\n",
       "    </tr>\n",
       "    <tr>\n",
       "      <th>14371</th>\n",
       "      <td>1.0</td>\n",
       "      <td>0</td>\n",
       "      <td>1</td>\n",
       "      <td>0</td>\n",
       "      <td>0</td>\n",
       "      <td>0</td>\n",
       "      <td>0</td>\n",
       "      <td>1</td>\n",
       "      <td>0</td>\n",
       "      <td>0</td>\n",
       "      <td>1</td>\n",
       "      <td>0</td>\n",
       "      <td>1</td>\n",
       "      <td>1</td>\n",
       "      <td>0</td>\n",
       "      <td>1</td>\n",
       "      <td>0</td>\n",
       "      <td>0</td>\n",
       "      <td>1</td>\n",
       "      <td>0</td>\n",
       "      <td>1</td>\n",
       "      <td>0.896265</td>\n",
       "    </tr>\n",
       "    <tr>\n",
       "      <th>14372</th>\n",
       "      <td>1.0</td>\n",
       "      <td>0</td>\n",
       "      <td>1</td>\n",
       "      <td>0</td>\n",
       "      <td>0</td>\n",
       "      <td>0</td>\n",
       "      <td>0</td>\n",
       "      <td>1</td>\n",
       "      <td>0</td>\n",
       "      <td>0</td>\n",
       "      <td>1</td>\n",
       "      <td>1</td>\n",
       "      <td>0</td>\n",
       "      <td>1</td>\n",
       "      <td>0</td>\n",
       "      <td>0</td>\n",
       "      <td>1</td>\n",
       "      <td>0</td>\n",
       "      <td>1</td>\n",
       "      <td>1</td>\n",
       "      <td>0</td>\n",
       "      <td>0.873072</td>\n",
       "    </tr>\n",
       "    <tr>\n",
       "      <th>14373</th>\n",
       "      <td>1.0</td>\n",
       "      <td>0</td>\n",
       "      <td>0</td>\n",
       "      <td>0</td>\n",
       "      <td>0</td>\n",
       "      <td>0</td>\n",
       "      <td>1</td>\n",
       "      <td>0</td>\n",
       "      <td>1</td>\n",
       "      <td>1</td>\n",
       "      <td>0</td>\n",
       "      <td>1</td>\n",
       "      <td>0</td>\n",
       "      <td>0</td>\n",
       "      <td>1</td>\n",
       "      <td>1</td>\n",
       "      <td>0</td>\n",
       "      <td>1</td>\n",
       "      <td>0</td>\n",
       "      <td>1</td>\n",
       "      <td>0</td>\n",
       "      <td>0.981318</td>\n",
       "    </tr>\n",
       "  </tbody>\n",
       "</table>\n",
       "<p>14374 rows × 22 columns</p>\n",
       "</div>"
      ],
      "text/plain": [
       "       const  Bureau_Score_[636.0, 830.0)  ...  Marital_Status_Other  Prediction\n",
       "0        1.0                            0  ...                     1    0.980759\n",
       "1        1.0                            0  ...                     0    0.979749\n",
       "2        1.0                            0  ...                     0    0.979749\n",
       "3        1.0                            0  ...                     0    0.942712\n",
       "4        1.0                            0  ...                     0    0.969890\n",
       "...      ...                          ...  ...                   ...         ...\n",
       "14369    1.0                            0  ...                     1    0.895220\n",
       "14370    1.0                            0  ...                     1    0.933819\n",
       "14371    1.0                            0  ...                     1    0.896265\n",
       "14372    1.0                            0  ...                     0    0.873072\n",
       "14373    1.0                            0  ...                     0    0.981318\n",
       "\n",
       "[14374 rows x 22 columns]"
      ]
     },
     "execution_count": 50,
     "metadata": {
      "tags": []
     },
     "output_type": "execute_result"
    }
   ],
   "source": [
    "x['Prediction'] = model_final.predict()\n",
    "x"
   ]
  },
  {
   "cell_type": "code",
   "execution_count": null,
   "metadata": {
    "colab": {
     "base_uri": "https://localhost:8080/"
    },
    "executionInfo": {
     "elapsed": 305,
     "status": "ok",
     "timestamp": 1625120609327,
     "user": {
      "displayName": "Juliana Staeva",
      "photoUrl": "https://lh3.googleusercontent.com/a-/AOh14GgSz4ONtpn5ahQX3v56fic4vTth-KNS6KRCB_n55g=s64",
      "userId": "02722631212774841828"
     },
     "user_tz": -180
    },
    "id": "NEB2NoO2R1wU",
    "outputId": "5139998a-22a6-44d1-cb64-aaa9905c07ac"
   },
   "outputs": [
    {
     "data": {
      "text/plain": [
       "array(['const', 'Bureau_Score_[636.0, 830.0)',\n",
       "       'Bureau_Score_[830.0, 935.0)', 'Bureau_Score_[935.0, 970.0)',\n",
       "       'Bureau_Score_[970.0, 995.0)', 'Bureau_Score_[995.0, 1020.0)',\n",
       "       'Bureau_Score_[1020.0, inf)', 'Cheque_Card_Flag_N',\n",
       "       'Cheque_Card_Flag_Y', 'Occupation_code_P|B|O', 'Occupation_code_M',\n",
       "       'Residential_Status_H', 'Residential_Status_L|O|T',\n",
       "       'Loan_Payment_Frequency_F|W|X', 'Loan_Payment_Frequency_M',\n",
       "       'Loan_Payment_Method_B', 'Loan_Payment_Method_Q|S|X',\n",
       "       'Insurance_Required_N', 'Insurance_Required_Y|Nan',\n",
       "       'Marital_Status_M', 'Marital_Status_Other', 'Prediction'],\n",
       "      dtype=object)"
      ]
     },
     "execution_count": 51,
     "metadata": {
      "tags": []
     },
     "output_type": "execute_result"
    }
   ],
   "source": [
    "x.columns.values"
   ]
  },
  {
   "cell_type": "code",
   "execution_count": null,
   "metadata": {
    "id": "FR6SJ2heR5ZR"
   },
   "outputs": [],
   "source": [
    "model_coefficients = {\n",
    "    \"Bureau_Score_[636.0, 830.0)\": -1.1097,\n",
    "    \"Bureau_Score_[830.0, 935.0)\": -0.4672,\n",
    "    \"Bureau_Score_[935.0, 970.0)\": 0.2633,\n",
    "    \"Bureau_Score_[970.0, 995.0)\": 0.5034,\n",
    "    \"Bureau_Score_[995.0, 1020.0)\": 0.6701,\n",
    "    \"Bureau_Score_[1020.0, inf)\": 0.7523,\n",
    "    \"Cheque_Card_Flag_N\": 0.1170,\n",
    "    \"Cheque_Card_Flag_Y\": 0.4952,\n",
    "    \"Occupation_code_P|B|O\": 0.2914,\n",
    "    \"Occupation_code_M\": 0.3208,\n",
    "    \"Residential_Status_H\": 0.3385,\n",
    "    \"Residential_Status_L|O|T\": 0.2737,\n",
    "    \"Loan_Payment_Frequency_F|W|X\": 0.2970,\n",
    "    \"Loan_Payment_Frequency_M\": 0.3152,\n",
    "    \"Insurance_Required_N\": 0.3679,\n",
    "    \"Insurance_Required_Y|Nan\": 0.2443,\n",
    "    \"Loan_Payment_Method_B\": 0.4676,\n",
    "    \"Loan_Payment_Method_Q|S|X\": 0.1446,\n",
    "    \"Marital_Status_M\": 0.3211,\n",
    "    \"Marital_Status_Other\": 0.2911 \n",
    "}"
   ]
  },
  {
   "cell_type": "code",
   "execution_count": null,
   "metadata": {
    "id": "RT-UI4qbTnpk"
   },
   "outputs": [],
   "source": [
    "def score(df, intercept, coefs):\n",
    "  value_to_add = 0\n",
    "  for name, coef in coefs.items():\n",
    "    value_to_add += coef*(df[name])\n",
    "  df[\"Score\"] = round((intercept + value_to_add)*100.0)"
   ]
  },
  {
   "cell_type": "code",
   "execution_count": null,
   "metadata": {
    "id": "9-ddvPjwTr6o"
   },
   "outputs": [],
   "source": [
    "score(bank_data_model, 0.6122, model_coefficients)"
   ]
  },
  {
   "cell_type": "markdown",
   "metadata": {
    "id": "kua0jiSgTyUv"
   },
   "source": [
    "SCORE DISTRIBUTION REPORT"
   ]
  },
  {
   "cell_type": "code",
   "execution_count": null,
   "metadata": {
    "colab": {
     "base_uri": "https://localhost:8080/"
    },
    "executionInfo": {
     "elapsed": 738,
     "status": "ok",
     "timestamp": 1625121128614,
     "user": {
      "displayName": "Juliana Staeva",
      "photoUrl": "https://lh3.googleusercontent.com/a-/AOh14GgSz4ONtpn5ahQX3v56fic4vTth-KNS6KRCB_n55g=s64",
      "userId": "02722631212774841828"
     },
     "user_tz": -180
    },
    "id": "Unyihho8T1vp",
    "outputId": "a7dff553-27e4-40c2-c456-8bea9aabfe2d"
   },
   "outputs": [
    {
     "data": {
      "text/plain": [
       "0        393.0\n",
       "1        388.0\n",
       "2        388.0\n",
       "3        280.0\n",
       "4        347.0\n",
       "         ...  \n",
       "17963    265.0\n",
       "17964    268.0\n",
       "17965    216.0\n",
       "17966    151.0\n",
       "17967    274.0\n",
       "Name: Score, Length: 17968, dtype: float64"
      ]
     },
     "execution_count": 55,
     "metadata": {
      "tags": []
     },
     "output_type": "execute_result"
    }
   ],
   "source": [
    "bank_data_model['Score']"
   ]
  },
  {
   "cell_type": "code",
   "execution_count": null,
   "metadata": {
    "colab": {
     "base_uri": "https://localhost:8080/"
    },
    "executionInfo": {
     "elapsed": 7,
     "status": "ok",
     "timestamp": 1625121130771,
     "user": {
      "displayName": "Juliana Staeva",
      "photoUrl": "https://lh3.googleusercontent.com/a-/AOh14GgSz4ONtpn5ahQX3v56fic4vTth-KNS6KRCB_n55g=s64",
      "userId": "02722631212774841828"
     },
     "user_tz": -180
    },
    "id": "YMsp-DuqT6Zi",
    "outputId": "12ed66e3-ab75-4a33-90f2-74465c61dfe8"
   },
   "outputs": [
    {
     "data": {
      "text/plain": [
       "116.0     31\n",
       "118.0     15\n",
       "119.0    122\n",
       "121.0     10\n",
       "122.0     24\n",
       "        ... \n",
       "393.0     72\n",
       "394.0     65\n",
       "396.0    884\n",
       "397.0     58\n",
       "399.0     66\n",
       "Name: Score, Length: 237, dtype: int64"
      ]
     },
     "execution_count": 56,
     "metadata": {
      "tags": []
     },
     "output_type": "execute_result"
    }
   ],
   "source": [
    "bank_data_model['Score'].value_counts(dropna=False).sort_index()"
   ]
  },
  {
   "cell_type": "code",
   "execution_count": null,
   "metadata": {
    "colab": {
     "base_uri": "https://localhost:8080/"
    },
    "executionInfo": {
     "elapsed": 344,
     "status": "ok",
     "timestamp": 1625121138662,
     "user": {
      "displayName": "Juliana Staeva",
      "photoUrl": "https://lh3.googleusercontent.com/a-/AOh14GgSz4ONtpn5ahQX3v56fic4vTth-KNS6KRCB_n55g=s64",
      "userId": "02722631212774841828"
     },
     "user_tz": -180
    },
    "id": "UhyVNCaRT__D",
    "outputId": "f397817b-b0ee-43a1-d481-377932355dbb"
   },
   "outputs": [
    {
     "data": {
      "text/plain": [
       "count    17968.000000\n",
       "mean       292.399655\n",
       "std         76.768152\n",
       "min        116.000000\n",
       "25%        227.000000\n",
       "50%        303.000000\n",
       "75%        362.000000\n",
       "max        399.000000\n",
       "Name: Score, dtype: float64"
      ]
     },
     "execution_count": 57,
     "metadata": {
      "tags": []
     },
     "output_type": "execute_result"
    }
   ],
   "source": [
    "bank_data_model['Score'].describe()"
   ]
  },
  {
   "cell_type": "code",
   "execution_count": null,
   "metadata": {
    "id": "rSRBdCmsUHbS"
   },
   "outputs": [],
   "source": [
    "bank_dev = bank_data_model[bank_data_model['sample'] == 'Training']\n",
    "bank_val = bank_data_model[bank_data_model['sample'] == 'Testing' ]"
   ]
  },
  {
   "cell_type": "code",
   "execution_count": null,
   "metadata": {
    "colab": {
     "base_uri": "https://localhost:8080/"
    },
    "executionInfo": {
     "elapsed": 277,
     "status": "ok",
     "timestamp": 1625121143241,
     "user": {
      "displayName": "Juliana Staeva",
      "photoUrl": "https://lh3.googleusercontent.com/a-/AOh14GgSz4ONtpn5ahQX3v56fic4vTth-KNS6KRCB_n55g=s64",
      "userId": "02722631212774841828"
     },
     "user_tz": -180
    },
    "id": "5yLMm3yMUZEL",
    "outputId": "0f348bac-27c7-444d-8d31-d966625cb584"
   },
   "outputs": [
    {
     "name": "stdout",
     "output_type": "stream",
     "text": [
      "116.0 ,\n",
      "154.0 ,\n",
      "193.0 ,\n",
      "210.0 ,\n",
      "218.0 ,\n",
      "227.0 ,\n",
      "237.0 ,\n",
      "255.0 ,\n",
      "266.0 ,\n",
      "275.0 ,\n",
      "304.0 ,\n",
      "318.0 ,\n",
      "335.0 ,\n",
      "340.0 ,\n",
      "354.0 ,\n",
      "362.0 ,\n",
      "371.0 ,\n",
      "385.0 ,\n",
      "388.0 ,\n",
      "396.0 ,\n",
      "399.0 ,\n"
     ]
    }
   ],
   "source": [
    "for i in range(0, 101, 5):\n",
    "  print(np.percentile(bank_dev['Score'],i), \",\")"
   ]
  },
  {
   "cell_type": "code",
   "execution_count": null,
   "metadata": {
    "id": "6gxaWrdsUjik"
   },
   "outputs": [],
   "source": [
    "SDR = pd.crosstab(pd.cut(bank_dev['Score'], bins= [\n",
    "                                          116.0 ,\n",
    "154.0 ,\n",
    "193.0 ,\n",
    "210.0 ,\n",
    "218.0 ,\n",
    "227.0 ,\n",
    "237.0 ,\n",
    "255.0 ,\n",
    "266.0 ,\n",
    "275.0 ,\n",
    "304.0 ,\n",
    "318.0 ,\n",
    "335.0 ,\n",
    "340.0 ,\n",
    "354.0 ,\n",
    "362.0 ,\n",
    "371.0 ,\n",
    "385.0 ,\n",
    "388.0 ,\n",
    "396.0 ,\n",
    "399.0 ,\n",
    "]), bank_dev[\"Target\"])"
   ]
  },
  {
   "cell_type": "code",
   "execution_count": null,
   "metadata": {
    "id": "4DhYYo4oUmM8"
   },
   "outputs": [],
   "source": [
    "SDR['Bad_Rate'] = round((SDR['Bad']/(SDR['Bad'] + SDR['Good']))*100,2)\n",
    "SDR['Good_Bad_Odds'] = round(SDR['Good']/SDR['Bad'], 2)\n",
    "SDR['Total_%'] = round((SDR['Bad'] + SDR['Good'])/(SDR['Bad'].sum() + SDR['Good'].sum())*100,2)"
   ]
  },
  {
   "cell_type": "code",
   "execution_count": null,
   "metadata": {
    "colab": {
     "base_uri": "https://localhost:8080/",
     "height": 705
    },
    "executionInfo": {
     "elapsed": 338,
     "status": "ok",
     "timestamp": 1625121157348,
     "user": {
      "displayName": "Juliana Staeva",
      "photoUrl": "https://lh3.googleusercontent.com/a-/AOh14GgSz4ONtpn5ahQX3v56fic4vTth-KNS6KRCB_n55g=s64",
      "userId": "02722631212774841828"
     },
     "user_tz": -180
    },
    "id": "D_Yt6whdUpRm",
    "outputId": "e13dcd7c-9a1e-4cec-b5bf-c2baa186efc7"
   },
   "outputs": [
    {
     "data": {
      "text/html": [
       "<div>\n",
       "<style scoped>\n",
       "    .dataframe tbody tr th:only-of-type {\n",
       "        vertical-align: middle;\n",
       "    }\n",
       "\n",
       "    .dataframe tbody tr th {\n",
       "        vertical-align: top;\n",
       "    }\n",
       "\n",
       "    .dataframe thead th {\n",
       "        text-align: right;\n",
       "    }\n",
       "</style>\n",
       "<table border=\"1\" class=\"dataframe\">\n",
       "  <thead>\n",
       "    <tr style=\"text-align: right;\">\n",
       "      <th>Target</th>\n",
       "      <th>Bad</th>\n",
       "      <th>Good</th>\n",
       "      <th>Bad_Rate</th>\n",
       "      <th>Good_Bad_Odds</th>\n",
       "      <th>Total_%</th>\n",
       "    </tr>\n",
       "    <tr>\n",
       "      <th>Score</th>\n",
       "      <th></th>\n",
       "      <th></th>\n",
       "      <th></th>\n",
       "      <th></th>\n",
       "      <th></th>\n",
       "    </tr>\n",
       "  </thead>\n",
       "  <tbody>\n",
       "    <tr>\n",
       "      <th>(116.0, 154.0]</th>\n",
       "      <td>133</td>\n",
       "      <td>569</td>\n",
       "      <td>18.95</td>\n",
       "      <td>4.28</td>\n",
       "      <td>4.89</td>\n",
       "    </tr>\n",
       "    <tr>\n",
       "      <th>(154.0, 193.0]</th>\n",
       "      <td>127</td>\n",
       "      <td>721</td>\n",
       "      <td>14.98</td>\n",
       "      <td>5.68</td>\n",
       "      <td>5.91</td>\n",
       "    </tr>\n",
       "    <tr>\n",
       "      <th>(193.0, 210.0]</th>\n",
       "      <td>78</td>\n",
       "      <td>517</td>\n",
       "      <td>13.11</td>\n",
       "      <td>6.63</td>\n",
       "      <td>4.15</td>\n",
       "    </tr>\n",
       "    <tr>\n",
       "      <th>(210.0, 218.0]</th>\n",
       "      <td>73</td>\n",
       "      <td>657</td>\n",
       "      <td>10.00</td>\n",
       "      <td>9.00</td>\n",
       "      <td>5.09</td>\n",
       "    </tr>\n",
       "    <tr>\n",
       "      <th>(218.0, 227.0]</th>\n",
       "      <td>79</td>\n",
       "      <td>625</td>\n",
       "      <td>11.22</td>\n",
       "      <td>7.91</td>\n",
       "      <td>4.91</td>\n",
       "    </tr>\n",
       "    <tr>\n",
       "      <th>(227.0, 237.0]</th>\n",
       "      <td>66</td>\n",
       "      <td>706</td>\n",
       "      <td>8.55</td>\n",
       "      <td>10.70</td>\n",
       "      <td>5.38</td>\n",
       "    </tr>\n",
       "    <tr>\n",
       "      <th>(237.0, 255.0]</th>\n",
       "      <td>48</td>\n",
       "      <td>676</td>\n",
       "      <td>6.63</td>\n",
       "      <td>14.08</td>\n",
       "      <td>5.05</td>\n",
       "    </tr>\n",
       "    <tr>\n",
       "      <th>(255.0, 266.0]</th>\n",
       "      <td>49</td>\n",
       "      <td>683</td>\n",
       "      <td>6.69</td>\n",
       "      <td>13.94</td>\n",
       "      <td>5.10</td>\n",
       "    </tr>\n",
       "    <tr>\n",
       "      <th>(266.0, 275.0]</th>\n",
       "      <td>35</td>\n",
       "      <td>605</td>\n",
       "      <td>5.47</td>\n",
       "      <td>17.29</td>\n",
       "      <td>4.46</td>\n",
       "    </tr>\n",
       "    <tr>\n",
       "      <th>(275.0, 304.0]</th>\n",
       "      <td>42</td>\n",
       "      <td>769</td>\n",
       "      <td>5.18</td>\n",
       "      <td>18.31</td>\n",
       "      <td>5.65</td>\n",
       "    </tr>\n",
       "    <tr>\n",
       "      <th>(304.0, 318.0]</th>\n",
       "      <td>24</td>\n",
       "      <td>611</td>\n",
       "      <td>3.78</td>\n",
       "      <td>25.46</td>\n",
       "      <td>4.43</td>\n",
       "    </tr>\n",
       "    <tr>\n",
       "      <th>(318.0, 335.0]</th>\n",
       "      <td>30</td>\n",
       "      <td>797</td>\n",
       "      <td>3.63</td>\n",
       "      <td>26.57</td>\n",
       "      <td>5.76</td>\n",
       "    </tr>\n",
       "    <tr>\n",
       "      <th>(335.0, 340.0]</th>\n",
       "      <td>32</td>\n",
       "      <td>623</td>\n",
       "      <td>4.89</td>\n",
       "      <td>19.47</td>\n",
       "      <td>4.56</td>\n",
       "    </tr>\n",
       "    <tr>\n",
       "      <th>(340.0, 354.0]</th>\n",
       "      <td>17</td>\n",
       "      <td>653</td>\n",
       "      <td>2.54</td>\n",
       "      <td>38.41</td>\n",
       "      <td>4.67</td>\n",
       "    </tr>\n",
       "    <tr>\n",
       "      <th>(354.0, 362.0]</th>\n",
       "      <td>26</td>\n",
       "      <td>927</td>\n",
       "      <td>2.73</td>\n",
       "      <td>35.65</td>\n",
       "      <td>6.64</td>\n",
       "    </tr>\n",
       "    <tr>\n",
       "      <th>(362.0, 371.0]</th>\n",
       "      <td>9</td>\n",
       "      <td>550</td>\n",
       "      <td>1.61</td>\n",
       "      <td>61.11</td>\n",
       "      <td>3.90</td>\n",
       "    </tr>\n",
       "    <tr>\n",
       "      <th>(371.0, 385.0]</th>\n",
       "      <td>18</td>\n",
       "      <td>755</td>\n",
       "      <td>2.33</td>\n",
       "      <td>41.94</td>\n",
       "      <td>5.39</td>\n",
       "    </tr>\n",
       "    <tr>\n",
       "      <th>(385.0, 388.0]</th>\n",
       "      <td>14</td>\n",
       "      <td>784</td>\n",
       "      <td>1.75</td>\n",
       "      <td>56.00</td>\n",
       "      <td>5.56</td>\n",
       "    </tr>\n",
       "    <tr>\n",
       "      <th>(388.0, 396.0]</th>\n",
       "      <td>25</td>\n",
       "      <td>1096</td>\n",
       "      <td>2.23</td>\n",
       "      <td>43.84</td>\n",
       "      <td>7.81</td>\n",
       "    </tr>\n",
       "    <tr>\n",
       "      <th>(396.0, 399.0]</th>\n",
       "      <td>0</td>\n",
       "      <td>101</td>\n",
       "      <td>0.00</td>\n",
       "      <td>inf</td>\n",
       "      <td>0.70</td>\n",
       "    </tr>\n",
       "  </tbody>\n",
       "</table>\n",
       "</div>"
      ],
      "text/plain": [
       "Target          Bad  Good  Bad_Rate  Good_Bad_Odds  Total_%\n",
       "Score                                                      \n",
       "(116.0, 154.0]  133   569     18.95           4.28     4.89\n",
       "(154.0, 193.0]  127   721     14.98           5.68     5.91\n",
       "(193.0, 210.0]   78   517     13.11           6.63     4.15\n",
       "(210.0, 218.0]   73   657     10.00           9.00     5.09\n",
       "(218.0, 227.0]   79   625     11.22           7.91     4.91\n",
       "(227.0, 237.0]   66   706      8.55          10.70     5.38\n",
       "(237.0, 255.0]   48   676      6.63          14.08     5.05\n",
       "(255.0, 266.0]   49   683      6.69          13.94     5.10\n",
       "(266.0, 275.0]   35   605      5.47          17.29     4.46\n",
       "(275.0, 304.0]   42   769      5.18          18.31     5.65\n",
       "(304.0, 318.0]   24   611      3.78          25.46     4.43\n",
       "(318.0, 335.0]   30   797      3.63          26.57     5.76\n",
       "(335.0, 340.0]   32   623      4.89          19.47     4.56\n",
       "(340.0, 354.0]   17   653      2.54          38.41     4.67\n",
       "(354.0, 362.0]   26   927      2.73          35.65     6.64\n",
       "(362.0, 371.0]    9   550      1.61          61.11     3.90\n",
       "(371.0, 385.0]   18   755      2.33          41.94     5.39\n",
       "(385.0, 388.0]   14   784      1.75          56.00     5.56\n",
       "(388.0, 396.0]   25  1096      2.23          43.84     7.81\n",
       "(396.0, 399.0]    0   101      0.00            inf     0.70"
      ]
     },
     "execution_count": 62,
     "metadata": {
      "tags": []
     },
     "output_type": "execute_result"
    }
   ],
   "source": [
    "SDR"
   ]
  },
  {
   "cell_type": "markdown",
   "metadata": {
    "id": "JItlibK6VPRP"
   },
   "source": [
    "VALIDATION TEST"
   ]
  },
  {
   "cell_type": "code",
   "execution_count": null,
   "metadata": {
    "id": "STPDq8I0VRBj"
   },
   "outputs": [],
   "source": [
    "validation_dev = pd.crosstab(pd.cut(bank_dev['Score'], bins=[\n",
    "                                                            116.0 ,\n",
    "154.0 ,\n",
    "193.0 ,\n",
    "210.0 ,\n",
    "218.0 ,\n",
    "227.0 ,\n",
    "237.0 ,\n",
    "255.0 ,\n",
    "266.0 ,\n",
    "275.0 ,\n",
    "304.0 ,\n",
    "318.0 ,\n",
    "335.0 ,\n",
    "340.0 ,\n",
    "354.0 ,\n",
    "362.0 ,\n",
    "371.0 ,\n",
    "385.0 ,\n",
    "388.0 ,\n",
    "396.0 ,\n",
    "399.0 ,\n",
    "]), bank_dev['Target'])"
   ]
  },
  {
   "cell_type": "code",
   "execution_count": null,
   "metadata": {
    "id": "rgJ8-rHKWU-b"
   },
   "outputs": [],
   "source": [
    "validation_val = pd.crosstab(pd.cut(bank_val['Score'], bins=[\n",
    "                                                         116.0 ,\n",
    "154.0 ,\n",
    "193.0 ,\n",
    "210.0 ,\n",
    "218.0 ,\n",
    "227.0 ,\n",
    "237.0 ,\n",
    "255.0 ,\n",
    "266.0 ,\n",
    "275.0 ,\n",
    "304.0 ,\n",
    "318.0 ,\n",
    "335.0 ,\n",
    "340.0 ,\n",
    "354.0 ,\n",
    "362.0 ,\n",
    "371.0 ,\n",
    "385.0 ,\n",
    "388.0 ,\n",
    "396.0 ,\n",
    "399.0 ,\n",
    "]), bank_val['Target'])"
   ]
  },
  {
   "cell_type": "code",
   "execution_count": null,
   "metadata": {
    "id": "hZfcCP6fWYV1"
   },
   "outputs": [],
   "source": [
    "validation_total = pd.crosstab(pd.cut(bank_data_model['Score'], bins=[\n",
    "                                                                    116.0 ,\n",
    "154.0 ,\n",
    "193.0 ,\n",
    "210.0 ,\n",
    "218.0 ,\n",
    "227.0 ,\n",
    "237.0 ,\n",
    "255.0 ,\n",
    "266.0 ,\n",
    "275.0 ,\n",
    "304.0 ,\n",
    "318.0 ,\n",
    "335.0 ,\n",
    "340.0 ,\n",
    "354.0 ,\n",
    "362.0 ,\n",
    "371.0 ,\n",
    "385.0 ,\n",
    "388.0 ,\n",
    "396.0 ,\n",
    "399.0 ,\n",
    "]), bank_data_model['Target'])"
   ]
  },
  {
   "cell_type": "code",
   "execution_count": null,
   "metadata": {
    "id": "XArktJKzWjXJ"
   },
   "outputs": [],
   "source": [
    "validation_total.reset_index(inplace=True)\n",
    "validation_total.columns.name = 'index'\n",
    "validation_dev.reset_index(inplace=True)\n",
    "validation_dev.columns.name = 'index'\n",
    "validation_val.reset_index(inplace=True)\n",
    "validation_val.columns.name = 'index'"
   ]
  },
  {
   "cell_type": "code",
   "execution_count": null,
   "metadata": {
    "id": "iC6OdSrLWnQr"
   },
   "outputs": [],
   "source": [
    "validation_total['Total'] = validation_total['Bad'] + validation_total['Good']\n",
    "validation_dev['Total'] = validation_dev['Bad'] + validation_dev['Good']\n",
    "validation_val['Total'] = validation_val['Bad'] + validation_val['Good']"
   ]
  },
  {
   "cell_type": "code",
   "execution_count": null,
   "metadata": {
    "colab": {
     "base_uri": "https://localhost:8080/",
     "height": 675
    },
    "executionInfo": {
     "elapsed": 293,
     "status": "ok",
     "timestamp": 1625121183306,
     "user": {
      "displayName": "Juliana Staeva",
      "photoUrl": "https://lh3.googleusercontent.com/a-/AOh14GgSz4ONtpn5ahQX3v56fic4vTth-KNS6KRCB_n55g=s64",
      "userId": "02722631212774841828"
     },
     "user_tz": -180
    },
    "id": "MIKK-YhSWuZX",
    "outputId": "b2cc706b-6d85-4a7b-e9dc-7324e9d65c44"
   },
   "outputs": [
    {
     "data": {
      "text/html": [
       "<div>\n",
       "<style scoped>\n",
       "    .dataframe tbody tr th:only-of-type {\n",
       "        vertical-align: middle;\n",
       "    }\n",
       "\n",
       "    .dataframe tbody tr th {\n",
       "        vertical-align: top;\n",
       "    }\n",
       "\n",
       "    .dataframe thead th {\n",
       "        text-align: right;\n",
       "    }\n",
       "</style>\n",
       "<table border=\"1\" class=\"dataframe\">\n",
       "  <thead>\n",
       "    <tr style=\"text-align: right;\">\n",
       "      <th>index</th>\n",
       "      <th>Score</th>\n",
       "      <th>Bad_x</th>\n",
       "      <th>Good_x</th>\n",
       "      <th>Total_x</th>\n",
       "      <th>Bad_y</th>\n",
       "      <th>Good_y</th>\n",
       "      <th>Total_y</th>\n",
       "      <th>Bad</th>\n",
       "      <th>Good</th>\n",
       "      <th>Total</th>\n",
       "    </tr>\n",
       "  </thead>\n",
       "  <tbody>\n",
       "    <tr>\n",
       "      <th>0</th>\n",
       "      <td>(116.0, 154.0]</td>\n",
       "      <td>133</td>\n",
       "      <td>569</td>\n",
       "      <td>702</td>\n",
       "      <td>35</td>\n",
       "      <td>146</td>\n",
       "      <td>181</td>\n",
       "      <td>168</td>\n",
       "      <td>715</td>\n",
       "      <td>883</td>\n",
       "    </tr>\n",
       "    <tr>\n",
       "      <th>1</th>\n",
       "      <td>(154.0, 193.0]</td>\n",
       "      <td>127</td>\n",
       "      <td>721</td>\n",
       "      <td>848</td>\n",
       "      <td>20</td>\n",
       "      <td>203</td>\n",
       "      <td>223</td>\n",
       "      <td>147</td>\n",
       "      <td>924</td>\n",
       "      <td>1071</td>\n",
       "    </tr>\n",
       "    <tr>\n",
       "      <th>2</th>\n",
       "      <td>(193.0, 210.0]</td>\n",
       "      <td>78</td>\n",
       "      <td>517</td>\n",
       "      <td>595</td>\n",
       "      <td>15</td>\n",
       "      <td>133</td>\n",
       "      <td>148</td>\n",
       "      <td>93</td>\n",
       "      <td>650</td>\n",
       "      <td>743</td>\n",
       "    </tr>\n",
       "    <tr>\n",
       "      <th>3</th>\n",
       "      <td>(210.0, 218.0]</td>\n",
       "      <td>73</td>\n",
       "      <td>657</td>\n",
       "      <td>730</td>\n",
       "      <td>19</td>\n",
       "      <td>161</td>\n",
       "      <td>180</td>\n",
       "      <td>92</td>\n",
       "      <td>818</td>\n",
       "      <td>910</td>\n",
       "    </tr>\n",
       "    <tr>\n",
       "      <th>4</th>\n",
       "      <td>(218.0, 227.0]</td>\n",
       "      <td>79</td>\n",
       "      <td>625</td>\n",
       "      <td>704</td>\n",
       "      <td>13</td>\n",
       "      <td>177</td>\n",
       "      <td>190</td>\n",
       "      <td>92</td>\n",
       "      <td>802</td>\n",
       "      <td>894</td>\n",
       "    </tr>\n",
       "    <tr>\n",
       "      <th>5</th>\n",
       "      <td>(227.0, 237.0]</td>\n",
       "      <td>66</td>\n",
       "      <td>706</td>\n",
       "      <td>772</td>\n",
       "      <td>13</td>\n",
       "      <td>179</td>\n",
       "      <td>192</td>\n",
       "      <td>79</td>\n",
       "      <td>885</td>\n",
       "      <td>964</td>\n",
       "    </tr>\n",
       "    <tr>\n",
       "      <th>6</th>\n",
       "      <td>(237.0, 255.0]</td>\n",
       "      <td>48</td>\n",
       "      <td>676</td>\n",
       "      <td>724</td>\n",
       "      <td>12</td>\n",
       "      <td>171</td>\n",
       "      <td>183</td>\n",
       "      <td>60</td>\n",
       "      <td>847</td>\n",
       "      <td>907</td>\n",
       "    </tr>\n",
       "    <tr>\n",
       "      <th>7</th>\n",
       "      <td>(255.0, 266.0]</td>\n",
       "      <td>49</td>\n",
       "      <td>683</td>\n",
       "      <td>732</td>\n",
       "      <td>10</td>\n",
       "      <td>215</td>\n",
       "      <td>225</td>\n",
       "      <td>59</td>\n",
       "      <td>898</td>\n",
       "      <td>957</td>\n",
       "    </tr>\n",
       "    <tr>\n",
       "      <th>8</th>\n",
       "      <td>(266.0, 275.0]</td>\n",
       "      <td>35</td>\n",
       "      <td>605</td>\n",
       "      <td>640</td>\n",
       "      <td>6</td>\n",
       "      <td>141</td>\n",
       "      <td>147</td>\n",
       "      <td>41</td>\n",
       "      <td>746</td>\n",
       "      <td>787</td>\n",
       "    </tr>\n",
       "    <tr>\n",
       "      <th>9</th>\n",
       "      <td>(275.0, 304.0]</td>\n",
       "      <td>42</td>\n",
       "      <td>769</td>\n",
       "      <td>811</td>\n",
       "      <td>10</td>\n",
       "      <td>206</td>\n",
       "      <td>216</td>\n",
       "      <td>52</td>\n",
       "      <td>975</td>\n",
       "      <td>1027</td>\n",
       "    </tr>\n",
       "    <tr>\n",
       "      <th>10</th>\n",
       "      <td>(304.0, 318.0]</td>\n",
       "      <td>24</td>\n",
       "      <td>611</td>\n",
       "      <td>635</td>\n",
       "      <td>5</td>\n",
       "      <td>138</td>\n",
       "      <td>143</td>\n",
       "      <td>29</td>\n",
       "      <td>749</td>\n",
       "      <td>778</td>\n",
       "    </tr>\n",
       "    <tr>\n",
       "      <th>11</th>\n",
       "      <td>(318.0, 335.0]</td>\n",
       "      <td>30</td>\n",
       "      <td>797</td>\n",
       "      <td>827</td>\n",
       "      <td>11</td>\n",
       "      <td>187</td>\n",
       "      <td>198</td>\n",
       "      <td>41</td>\n",
       "      <td>984</td>\n",
       "      <td>1025</td>\n",
       "    </tr>\n",
       "    <tr>\n",
       "      <th>12</th>\n",
       "      <td>(335.0, 340.0]</td>\n",
       "      <td>32</td>\n",
       "      <td>623</td>\n",
       "      <td>655</td>\n",
       "      <td>5</td>\n",
       "      <td>154</td>\n",
       "      <td>159</td>\n",
       "      <td>37</td>\n",
       "      <td>777</td>\n",
       "      <td>814</td>\n",
       "    </tr>\n",
       "    <tr>\n",
       "      <th>13</th>\n",
       "      <td>(340.0, 354.0]</td>\n",
       "      <td>17</td>\n",
       "      <td>653</td>\n",
       "      <td>670</td>\n",
       "      <td>4</td>\n",
       "      <td>176</td>\n",
       "      <td>180</td>\n",
       "      <td>21</td>\n",
       "      <td>829</td>\n",
       "      <td>850</td>\n",
       "    </tr>\n",
       "    <tr>\n",
       "      <th>14</th>\n",
       "      <td>(354.0, 362.0]</td>\n",
       "      <td>26</td>\n",
       "      <td>927</td>\n",
       "      <td>953</td>\n",
       "      <td>7</td>\n",
       "      <td>192</td>\n",
       "      <td>199</td>\n",
       "      <td>33</td>\n",
       "      <td>1119</td>\n",
       "      <td>1152</td>\n",
       "    </tr>\n",
       "    <tr>\n",
       "      <th>15</th>\n",
       "      <td>(362.0, 371.0]</td>\n",
       "      <td>9</td>\n",
       "      <td>550</td>\n",
       "      <td>559</td>\n",
       "      <td>1</td>\n",
       "      <td>122</td>\n",
       "      <td>123</td>\n",
       "      <td>10</td>\n",
       "      <td>672</td>\n",
       "      <td>682</td>\n",
       "    </tr>\n",
       "    <tr>\n",
       "      <th>16</th>\n",
       "      <td>(371.0, 385.0]</td>\n",
       "      <td>18</td>\n",
       "      <td>755</td>\n",
       "      <td>773</td>\n",
       "      <td>6</td>\n",
       "      <td>186</td>\n",
       "      <td>192</td>\n",
       "      <td>24</td>\n",
       "      <td>941</td>\n",
       "      <td>965</td>\n",
       "    </tr>\n",
       "    <tr>\n",
       "      <th>17</th>\n",
       "      <td>(385.0, 388.0]</td>\n",
       "      <td>14</td>\n",
       "      <td>784</td>\n",
       "      <td>798</td>\n",
       "      <td>5</td>\n",
       "      <td>205</td>\n",
       "      <td>210</td>\n",
       "      <td>19</td>\n",
       "      <td>989</td>\n",
       "      <td>1008</td>\n",
       "    </tr>\n",
       "    <tr>\n",
       "      <th>18</th>\n",
       "      <td>(388.0, 396.0]</td>\n",
       "      <td>25</td>\n",
       "      <td>1096</td>\n",
       "      <td>1121</td>\n",
       "      <td>3</td>\n",
       "      <td>272</td>\n",
       "      <td>275</td>\n",
       "      <td>28</td>\n",
       "      <td>1368</td>\n",
       "      <td>1396</td>\n",
       "    </tr>\n",
       "    <tr>\n",
       "      <th>19</th>\n",
       "      <td>(396.0, 399.0]</td>\n",
       "      <td>0</td>\n",
       "      <td>101</td>\n",
       "      <td>101</td>\n",
       "      <td>0</td>\n",
       "      <td>23</td>\n",
       "      <td>23</td>\n",
       "      <td>0</td>\n",
       "      <td>124</td>\n",
       "      <td>124</td>\n",
       "    </tr>\n",
       "  </tbody>\n",
       "</table>\n",
       "</div>"
      ],
      "text/plain": [
       "index           Score  Bad_x  Good_x  Total_x  ...  Total_y  Bad  Good  Total\n",
       "0      (116.0, 154.0]    133     569      702  ...      181  168   715    883\n",
       "1      (154.0, 193.0]    127     721      848  ...      223  147   924   1071\n",
       "2      (193.0, 210.0]     78     517      595  ...      148   93   650    743\n",
       "3      (210.0, 218.0]     73     657      730  ...      180   92   818    910\n",
       "4      (218.0, 227.0]     79     625      704  ...      190   92   802    894\n",
       "5      (227.0, 237.0]     66     706      772  ...      192   79   885    964\n",
       "6      (237.0, 255.0]     48     676      724  ...      183   60   847    907\n",
       "7      (255.0, 266.0]     49     683      732  ...      225   59   898    957\n",
       "8      (266.0, 275.0]     35     605      640  ...      147   41   746    787\n",
       "9      (275.0, 304.0]     42     769      811  ...      216   52   975   1027\n",
       "10     (304.0, 318.0]     24     611      635  ...      143   29   749    778\n",
       "11     (318.0, 335.0]     30     797      827  ...      198   41   984   1025\n",
       "12     (335.0, 340.0]     32     623      655  ...      159   37   777    814\n",
       "13     (340.0, 354.0]     17     653      670  ...      180   21   829    850\n",
       "14     (354.0, 362.0]     26     927      953  ...      199   33  1119   1152\n",
       "15     (362.0, 371.0]      9     550      559  ...      123   10   672    682\n",
       "16     (371.0, 385.0]     18     755      773  ...      192   24   941    965\n",
       "17     (385.0, 388.0]     14     784      798  ...      210   19   989   1008\n",
       "18     (388.0, 396.0]     25    1096     1121  ...      275   28  1368   1396\n",
       "19     (396.0, 399.0]      0     101      101  ...       23    0   124    124\n",
       "\n",
       "[20 rows x 10 columns]"
      ]
     },
     "execution_count": 68,
     "metadata": {
      "tags": []
     },
     "output_type": "execute_result"
    }
   ],
   "source": [
    "df_combined = validation_dev.merge(right=validation_val, on='Score').merge(right=validation_total,on='Score')\n",
    "df_combined"
   ]
  },
  {
   "cell_type": "code",
   "execution_count": null,
   "metadata": {
    "colab": {
     "base_uri": "https://localhost:8080/"
    },
    "executionInfo": {
     "elapsed": 285,
     "status": "ok",
     "timestamp": 1625121196838,
     "user": {
      "displayName": "Juliana Staeva",
      "photoUrl": "https://lh3.googleusercontent.com/a-/AOh14GgSz4ONtpn5ahQX3v56fic4vTth-KNS6KRCB_n55g=s64",
      "userId": "02722631212774841828"
     },
     "user_tz": -180
    },
    "id": "EiP-MrAgWyFu",
    "outputId": "b63a2eb4-3dfb-49b2-b86d-6c3c116c1fea"
   },
   "outputs": [
    {
     "data": {
      "text/plain": [
       "Index(['Score', 'Bad_x', 'Good_x', 'Total_x', 'Bad_y', 'Good_y', 'Total_y',\n",
       "       'Bad', 'Good', 'Total'],\n",
       "      dtype='object', name='index')"
      ]
     },
     "execution_count": 69,
     "metadata": {
      "tags": []
     },
     "output_type": "execute_result"
    }
   ],
   "source": [
    "df_combined.columns"
   ]
  },
  {
   "cell_type": "code",
   "execution_count": null,
   "metadata": {
    "id": "az7sAg8eW0j-"
   },
   "outputs": [],
   "source": [
    "rename = {\n",
    "    'Bad_x': 'Bad_dev',\n",
    "    'Bad_y': 'Bad_val',\n",
    "    'Good_x': 'Good_dev',\n",
    "    'Good_y': 'Good_val',\n",
    "    'Bad': 'Bad_All',\n",
    "    'Good': 'Good_All',\n",
    "    'Total_x': 'Total_Dev',\n",
    "    'Total_y': 'Total_val',\n",
    "    'Total': 'Total_All'\n",
    "}"
   ]
  },
  {
   "cell_type": "code",
   "execution_count": null,
   "metadata": {
    "colab": {
     "base_uri": "https://localhost:8080/",
     "height": 675
    },
    "executionInfo": {
     "elapsed": 290,
     "status": "ok",
     "timestamp": 1625121201022,
     "user": {
      "displayName": "Juliana Staeva",
      "photoUrl": "https://lh3.googleusercontent.com/a-/AOh14GgSz4ONtpn5ahQX3v56fic4vTth-KNS6KRCB_n55g=s64",
      "userId": "02722631212774841828"
     },
     "user_tz": -180
    },
    "id": "H0bM0YMjW3dQ",
    "outputId": "c30f0b8c-c92b-4778-825c-ad873a9384c6"
   },
   "outputs": [
    {
     "data": {
      "text/html": [
       "<div>\n",
       "<style scoped>\n",
       "    .dataframe tbody tr th:only-of-type {\n",
       "        vertical-align: middle;\n",
       "    }\n",
       "\n",
       "    .dataframe tbody tr th {\n",
       "        vertical-align: top;\n",
       "    }\n",
       "\n",
       "    .dataframe thead th {\n",
       "        text-align: right;\n",
       "    }\n",
       "</style>\n",
       "<table border=\"1\" class=\"dataframe\">\n",
       "  <thead>\n",
       "    <tr style=\"text-align: right;\">\n",
       "      <th>index</th>\n",
       "      <th>Score</th>\n",
       "      <th>Bad_dev</th>\n",
       "      <th>Good_dev</th>\n",
       "      <th>Total_Dev</th>\n",
       "      <th>Bad_val</th>\n",
       "      <th>Good_val</th>\n",
       "      <th>Total_val</th>\n",
       "      <th>Bad_All</th>\n",
       "      <th>Good_All</th>\n",
       "      <th>Total_All</th>\n",
       "    </tr>\n",
       "  </thead>\n",
       "  <tbody>\n",
       "    <tr>\n",
       "      <th>0</th>\n",
       "      <td>(116.0, 154.0]</td>\n",
       "      <td>133</td>\n",
       "      <td>569</td>\n",
       "      <td>702</td>\n",
       "      <td>35</td>\n",
       "      <td>146</td>\n",
       "      <td>181</td>\n",
       "      <td>168</td>\n",
       "      <td>715</td>\n",
       "      <td>883</td>\n",
       "    </tr>\n",
       "    <tr>\n",
       "      <th>1</th>\n",
       "      <td>(154.0, 193.0]</td>\n",
       "      <td>127</td>\n",
       "      <td>721</td>\n",
       "      <td>848</td>\n",
       "      <td>20</td>\n",
       "      <td>203</td>\n",
       "      <td>223</td>\n",
       "      <td>147</td>\n",
       "      <td>924</td>\n",
       "      <td>1071</td>\n",
       "    </tr>\n",
       "    <tr>\n",
       "      <th>2</th>\n",
       "      <td>(193.0, 210.0]</td>\n",
       "      <td>78</td>\n",
       "      <td>517</td>\n",
       "      <td>595</td>\n",
       "      <td>15</td>\n",
       "      <td>133</td>\n",
       "      <td>148</td>\n",
       "      <td>93</td>\n",
       "      <td>650</td>\n",
       "      <td>743</td>\n",
       "    </tr>\n",
       "    <tr>\n",
       "      <th>3</th>\n",
       "      <td>(210.0, 218.0]</td>\n",
       "      <td>73</td>\n",
       "      <td>657</td>\n",
       "      <td>730</td>\n",
       "      <td>19</td>\n",
       "      <td>161</td>\n",
       "      <td>180</td>\n",
       "      <td>92</td>\n",
       "      <td>818</td>\n",
       "      <td>910</td>\n",
       "    </tr>\n",
       "    <tr>\n",
       "      <th>4</th>\n",
       "      <td>(218.0, 227.0]</td>\n",
       "      <td>79</td>\n",
       "      <td>625</td>\n",
       "      <td>704</td>\n",
       "      <td>13</td>\n",
       "      <td>177</td>\n",
       "      <td>190</td>\n",
       "      <td>92</td>\n",
       "      <td>802</td>\n",
       "      <td>894</td>\n",
       "    </tr>\n",
       "    <tr>\n",
       "      <th>5</th>\n",
       "      <td>(227.0, 237.0]</td>\n",
       "      <td>66</td>\n",
       "      <td>706</td>\n",
       "      <td>772</td>\n",
       "      <td>13</td>\n",
       "      <td>179</td>\n",
       "      <td>192</td>\n",
       "      <td>79</td>\n",
       "      <td>885</td>\n",
       "      <td>964</td>\n",
       "    </tr>\n",
       "    <tr>\n",
       "      <th>6</th>\n",
       "      <td>(237.0, 255.0]</td>\n",
       "      <td>48</td>\n",
       "      <td>676</td>\n",
       "      <td>724</td>\n",
       "      <td>12</td>\n",
       "      <td>171</td>\n",
       "      <td>183</td>\n",
       "      <td>60</td>\n",
       "      <td>847</td>\n",
       "      <td>907</td>\n",
       "    </tr>\n",
       "    <tr>\n",
       "      <th>7</th>\n",
       "      <td>(255.0, 266.0]</td>\n",
       "      <td>49</td>\n",
       "      <td>683</td>\n",
       "      <td>732</td>\n",
       "      <td>10</td>\n",
       "      <td>215</td>\n",
       "      <td>225</td>\n",
       "      <td>59</td>\n",
       "      <td>898</td>\n",
       "      <td>957</td>\n",
       "    </tr>\n",
       "    <tr>\n",
       "      <th>8</th>\n",
       "      <td>(266.0, 275.0]</td>\n",
       "      <td>35</td>\n",
       "      <td>605</td>\n",
       "      <td>640</td>\n",
       "      <td>6</td>\n",
       "      <td>141</td>\n",
       "      <td>147</td>\n",
       "      <td>41</td>\n",
       "      <td>746</td>\n",
       "      <td>787</td>\n",
       "    </tr>\n",
       "    <tr>\n",
       "      <th>9</th>\n",
       "      <td>(275.0, 304.0]</td>\n",
       "      <td>42</td>\n",
       "      <td>769</td>\n",
       "      <td>811</td>\n",
       "      <td>10</td>\n",
       "      <td>206</td>\n",
       "      <td>216</td>\n",
       "      <td>52</td>\n",
       "      <td>975</td>\n",
       "      <td>1027</td>\n",
       "    </tr>\n",
       "    <tr>\n",
       "      <th>10</th>\n",
       "      <td>(304.0, 318.0]</td>\n",
       "      <td>24</td>\n",
       "      <td>611</td>\n",
       "      <td>635</td>\n",
       "      <td>5</td>\n",
       "      <td>138</td>\n",
       "      <td>143</td>\n",
       "      <td>29</td>\n",
       "      <td>749</td>\n",
       "      <td>778</td>\n",
       "    </tr>\n",
       "    <tr>\n",
       "      <th>11</th>\n",
       "      <td>(318.0, 335.0]</td>\n",
       "      <td>30</td>\n",
       "      <td>797</td>\n",
       "      <td>827</td>\n",
       "      <td>11</td>\n",
       "      <td>187</td>\n",
       "      <td>198</td>\n",
       "      <td>41</td>\n",
       "      <td>984</td>\n",
       "      <td>1025</td>\n",
       "    </tr>\n",
       "    <tr>\n",
       "      <th>12</th>\n",
       "      <td>(335.0, 340.0]</td>\n",
       "      <td>32</td>\n",
       "      <td>623</td>\n",
       "      <td>655</td>\n",
       "      <td>5</td>\n",
       "      <td>154</td>\n",
       "      <td>159</td>\n",
       "      <td>37</td>\n",
       "      <td>777</td>\n",
       "      <td>814</td>\n",
       "    </tr>\n",
       "    <tr>\n",
       "      <th>13</th>\n",
       "      <td>(340.0, 354.0]</td>\n",
       "      <td>17</td>\n",
       "      <td>653</td>\n",
       "      <td>670</td>\n",
       "      <td>4</td>\n",
       "      <td>176</td>\n",
       "      <td>180</td>\n",
       "      <td>21</td>\n",
       "      <td>829</td>\n",
       "      <td>850</td>\n",
       "    </tr>\n",
       "    <tr>\n",
       "      <th>14</th>\n",
       "      <td>(354.0, 362.0]</td>\n",
       "      <td>26</td>\n",
       "      <td>927</td>\n",
       "      <td>953</td>\n",
       "      <td>7</td>\n",
       "      <td>192</td>\n",
       "      <td>199</td>\n",
       "      <td>33</td>\n",
       "      <td>1119</td>\n",
       "      <td>1152</td>\n",
       "    </tr>\n",
       "    <tr>\n",
       "      <th>15</th>\n",
       "      <td>(362.0, 371.0]</td>\n",
       "      <td>9</td>\n",
       "      <td>550</td>\n",
       "      <td>559</td>\n",
       "      <td>1</td>\n",
       "      <td>122</td>\n",
       "      <td>123</td>\n",
       "      <td>10</td>\n",
       "      <td>672</td>\n",
       "      <td>682</td>\n",
       "    </tr>\n",
       "    <tr>\n",
       "      <th>16</th>\n",
       "      <td>(371.0, 385.0]</td>\n",
       "      <td>18</td>\n",
       "      <td>755</td>\n",
       "      <td>773</td>\n",
       "      <td>6</td>\n",
       "      <td>186</td>\n",
       "      <td>192</td>\n",
       "      <td>24</td>\n",
       "      <td>941</td>\n",
       "      <td>965</td>\n",
       "    </tr>\n",
       "    <tr>\n",
       "      <th>17</th>\n",
       "      <td>(385.0, 388.0]</td>\n",
       "      <td>14</td>\n",
       "      <td>784</td>\n",
       "      <td>798</td>\n",
       "      <td>5</td>\n",
       "      <td>205</td>\n",
       "      <td>210</td>\n",
       "      <td>19</td>\n",
       "      <td>989</td>\n",
       "      <td>1008</td>\n",
       "    </tr>\n",
       "    <tr>\n",
       "      <th>18</th>\n",
       "      <td>(388.0, 396.0]</td>\n",
       "      <td>25</td>\n",
       "      <td>1096</td>\n",
       "      <td>1121</td>\n",
       "      <td>3</td>\n",
       "      <td>272</td>\n",
       "      <td>275</td>\n",
       "      <td>28</td>\n",
       "      <td>1368</td>\n",
       "      <td>1396</td>\n",
       "    </tr>\n",
       "    <tr>\n",
       "      <th>19</th>\n",
       "      <td>(396.0, 399.0]</td>\n",
       "      <td>0</td>\n",
       "      <td>101</td>\n",
       "      <td>101</td>\n",
       "      <td>0</td>\n",
       "      <td>23</td>\n",
       "      <td>23</td>\n",
       "      <td>0</td>\n",
       "      <td>124</td>\n",
       "      <td>124</td>\n",
       "    </tr>\n",
       "  </tbody>\n",
       "</table>\n",
       "</div>"
      ],
      "text/plain": [
       "index           Score  Bad_dev  Good_dev  ...  Bad_All  Good_All  Total_All\n",
       "0      (116.0, 154.0]      133       569  ...      168       715        883\n",
       "1      (154.0, 193.0]      127       721  ...      147       924       1071\n",
       "2      (193.0, 210.0]       78       517  ...       93       650        743\n",
       "3      (210.0, 218.0]       73       657  ...       92       818        910\n",
       "4      (218.0, 227.0]       79       625  ...       92       802        894\n",
       "5      (227.0, 237.0]       66       706  ...       79       885        964\n",
       "6      (237.0, 255.0]       48       676  ...       60       847        907\n",
       "7      (255.0, 266.0]       49       683  ...       59       898        957\n",
       "8      (266.0, 275.0]       35       605  ...       41       746        787\n",
       "9      (275.0, 304.0]       42       769  ...       52       975       1027\n",
       "10     (304.0, 318.0]       24       611  ...       29       749        778\n",
       "11     (318.0, 335.0]       30       797  ...       41       984       1025\n",
       "12     (335.0, 340.0]       32       623  ...       37       777        814\n",
       "13     (340.0, 354.0]       17       653  ...       21       829        850\n",
       "14     (354.0, 362.0]       26       927  ...       33      1119       1152\n",
       "15     (362.0, 371.0]        9       550  ...       10       672        682\n",
       "16     (371.0, 385.0]       18       755  ...       24       941        965\n",
       "17     (385.0, 388.0]       14       784  ...       19       989       1008\n",
       "18     (388.0, 396.0]       25      1096  ...       28      1368       1396\n",
       "19     (396.0, 399.0]        0       101  ...        0       124        124\n",
       "\n",
       "[20 rows x 10 columns]"
      ]
     },
     "execution_count": 71,
     "metadata": {
      "tags": []
     },
     "output_type": "execute_result"
    }
   ],
   "source": [
    "df_combined = df_combined.rename(columns = rename)\n",
    "df_combined"
   ]
  },
  {
   "cell_type": "code",
   "execution_count": null,
   "metadata": {
    "id": "vWQM7X-QW8J-"
   },
   "outputs": [],
   "source": [
    "df_combined.set_index('Score', inplace=True)"
   ]
  },
  {
   "cell_type": "code",
   "execution_count": null,
   "metadata": {
    "id": "tEeloeazXB2F"
   },
   "outputs": [],
   "source": [
    "df_combined = df_combined.cumsum()"
   ]
  },
  {
   "cell_type": "code",
   "execution_count": null,
   "metadata": {
    "id": "9cDfPGl9XCzd"
   },
   "outputs": [],
   "source": [
    "rename2 = {\n",
    "    'Bad_dev': 'Cum_Bad_dev',\n",
    "    'Good_dev': 'Cum_Good_dev',\n",
    "    'Total_Dev': 'Cum_Total_dev',\n",
    "    'Bad_val': 'Cum_Bad_val',\n",
    "    'Good_val': 'Cum_Good_val',\n",
    "    'Total_val': 'Cum_Total_val',\n",
    "    'Bad_All': 'Cum_Bad_All',\n",
    "    'Good_All': 'Cum_Good_All',\n",
    "    'Total_All': 'Cum_Total_All'\n",
    "}"
   ]
  },
  {
   "cell_type": "code",
   "execution_count": null,
   "metadata": {
    "colab": {
     "base_uri": "https://localhost:8080/",
     "height": 705
    },
    "executionInfo": {
     "elapsed": 310,
     "status": "ok",
     "timestamp": 1625121219886,
     "user": {
      "displayName": "Juliana Staeva",
      "photoUrl": "https://lh3.googleusercontent.com/a-/AOh14GgSz4ONtpn5ahQX3v56fic4vTth-KNS6KRCB_n55g=s64",
      "userId": "02722631212774841828"
     },
     "user_tz": -180
    },
    "id": "H5fNNKhwXIIB",
    "outputId": "14dada4f-49fd-46ec-8a64-b4bbd5baef6b"
   },
   "outputs": [
    {
     "data": {
      "text/html": [
       "<div>\n",
       "<style scoped>\n",
       "    .dataframe tbody tr th:only-of-type {\n",
       "        vertical-align: middle;\n",
       "    }\n",
       "\n",
       "    .dataframe tbody tr th {\n",
       "        vertical-align: top;\n",
       "    }\n",
       "\n",
       "    .dataframe thead th {\n",
       "        text-align: right;\n",
       "    }\n",
       "</style>\n",
       "<table border=\"1\" class=\"dataframe\">\n",
       "  <thead>\n",
       "    <tr style=\"text-align: right;\">\n",
       "      <th>index</th>\n",
       "      <th>Cum_Bad_dev</th>\n",
       "      <th>Cum_Good_dev</th>\n",
       "      <th>Cum_Total_dev</th>\n",
       "      <th>Cum_Bad_val</th>\n",
       "      <th>Cum_Good_val</th>\n",
       "      <th>Cum_Total_val</th>\n",
       "      <th>Cum_Bad_All</th>\n",
       "      <th>Cum_Good_All</th>\n",
       "      <th>Cum_Total_All</th>\n",
       "    </tr>\n",
       "    <tr>\n",
       "      <th>Score</th>\n",
       "      <th></th>\n",
       "      <th></th>\n",
       "      <th></th>\n",
       "      <th></th>\n",
       "      <th></th>\n",
       "      <th></th>\n",
       "      <th></th>\n",
       "      <th></th>\n",
       "      <th></th>\n",
       "    </tr>\n",
       "  </thead>\n",
       "  <tbody>\n",
       "    <tr>\n",
       "      <th>(116.0, 154.0]</th>\n",
       "      <td>133</td>\n",
       "      <td>569</td>\n",
       "      <td>702</td>\n",
       "      <td>35</td>\n",
       "      <td>146</td>\n",
       "      <td>181</td>\n",
       "      <td>168</td>\n",
       "      <td>715</td>\n",
       "      <td>883</td>\n",
       "    </tr>\n",
       "    <tr>\n",
       "      <th>(154.0, 193.0]</th>\n",
       "      <td>260</td>\n",
       "      <td>1290</td>\n",
       "      <td>1550</td>\n",
       "      <td>55</td>\n",
       "      <td>349</td>\n",
       "      <td>404</td>\n",
       "      <td>315</td>\n",
       "      <td>1639</td>\n",
       "      <td>1954</td>\n",
       "    </tr>\n",
       "    <tr>\n",
       "      <th>(193.0, 210.0]</th>\n",
       "      <td>338</td>\n",
       "      <td>1807</td>\n",
       "      <td>2145</td>\n",
       "      <td>70</td>\n",
       "      <td>482</td>\n",
       "      <td>552</td>\n",
       "      <td>408</td>\n",
       "      <td>2289</td>\n",
       "      <td>2697</td>\n",
       "    </tr>\n",
       "    <tr>\n",
       "      <th>(210.0, 218.0]</th>\n",
       "      <td>411</td>\n",
       "      <td>2464</td>\n",
       "      <td>2875</td>\n",
       "      <td>89</td>\n",
       "      <td>643</td>\n",
       "      <td>732</td>\n",
       "      <td>500</td>\n",
       "      <td>3107</td>\n",
       "      <td>3607</td>\n",
       "    </tr>\n",
       "    <tr>\n",
       "      <th>(218.0, 227.0]</th>\n",
       "      <td>490</td>\n",
       "      <td>3089</td>\n",
       "      <td>3579</td>\n",
       "      <td>102</td>\n",
       "      <td>820</td>\n",
       "      <td>922</td>\n",
       "      <td>592</td>\n",
       "      <td>3909</td>\n",
       "      <td>4501</td>\n",
       "    </tr>\n",
       "    <tr>\n",
       "      <th>(227.0, 237.0]</th>\n",
       "      <td>556</td>\n",
       "      <td>3795</td>\n",
       "      <td>4351</td>\n",
       "      <td>115</td>\n",
       "      <td>999</td>\n",
       "      <td>1114</td>\n",
       "      <td>671</td>\n",
       "      <td>4794</td>\n",
       "      <td>5465</td>\n",
       "    </tr>\n",
       "    <tr>\n",
       "      <th>(237.0, 255.0]</th>\n",
       "      <td>604</td>\n",
       "      <td>4471</td>\n",
       "      <td>5075</td>\n",
       "      <td>127</td>\n",
       "      <td>1170</td>\n",
       "      <td>1297</td>\n",
       "      <td>731</td>\n",
       "      <td>5641</td>\n",
       "      <td>6372</td>\n",
       "    </tr>\n",
       "    <tr>\n",
       "      <th>(255.0, 266.0]</th>\n",
       "      <td>653</td>\n",
       "      <td>5154</td>\n",
       "      <td>5807</td>\n",
       "      <td>137</td>\n",
       "      <td>1385</td>\n",
       "      <td>1522</td>\n",
       "      <td>790</td>\n",
       "      <td>6539</td>\n",
       "      <td>7329</td>\n",
       "    </tr>\n",
       "    <tr>\n",
       "      <th>(266.0, 275.0]</th>\n",
       "      <td>688</td>\n",
       "      <td>5759</td>\n",
       "      <td>6447</td>\n",
       "      <td>143</td>\n",
       "      <td>1526</td>\n",
       "      <td>1669</td>\n",
       "      <td>831</td>\n",
       "      <td>7285</td>\n",
       "      <td>8116</td>\n",
       "    </tr>\n",
       "    <tr>\n",
       "      <th>(275.0, 304.0]</th>\n",
       "      <td>730</td>\n",
       "      <td>6528</td>\n",
       "      <td>7258</td>\n",
       "      <td>153</td>\n",
       "      <td>1732</td>\n",
       "      <td>1885</td>\n",
       "      <td>883</td>\n",
       "      <td>8260</td>\n",
       "      <td>9143</td>\n",
       "    </tr>\n",
       "    <tr>\n",
       "      <th>(304.0, 318.0]</th>\n",
       "      <td>754</td>\n",
       "      <td>7139</td>\n",
       "      <td>7893</td>\n",
       "      <td>158</td>\n",
       "      <td>1870</td>\n",
       "      <td>2028</td>\n",
       "      <td>912</td>\n",
       "      <td>9009</td>\n",
       "      <td>9921</td>\n",
       "    </tr>\n",
       "    <tr>\n",
       "      <th>(318.0, 335.0]</th>\n",
       "      <td>784</td>\n",
       "      <td>7936</td>\n",
       "      <td>8720</td>\n",
       "      <td>169</td>\n",
       "      <td>2057</td>\n",
       "      <td>2226</td>\n",
       "      <td>953</td>\n",
       "      <td>9993</td>\n",
       "      <td>10946</td>\n",
       "    </tr>\n",
       "    <tr>\n",
       "      <th>(335.0, 340.0]</th>\n",
       "      <td>816</td>\n",
       "      <td>8559</td>\n",
       "      <td>9375</td>\n",
       "      <td>174</td>\n",
       "      <td>2211</td>\n",
       "      <td>2385</td>\n",
       "      <td>990</td>\n",
       "      <td>10770</td>\n",
       "      <td>11760</td>\n",
       "    </tr>\n",
       "    <tr>\n",
       "      <th>(340.0, 354.0]</th>\n",
       "      <td>833</td>\n",
       "      <td>9212</td>\n",
       "      <td>10045</td>\n",
       "      <td>178</td>\n",
       "      <td>2387</td>\n",
       "      <td>2565</td>\n",
       "      <td>1011</td>\n",
       "      <td>11599</td>\n",
       "      <td>12610</td>\n",
       "    </tr>\n",
       "    <tr>\n",
       "      <th>(354.0, 362.0]</th>\n",
       "      <td>859</td>\n",
       "      <td>10139</td>\n",
       "      <td>10998</td>\n",
       "      <td>185</td>\n",
       "      <td>2579</td>\n",
       "      <td>2764</td>\n",
       "      <td>1044</td>\n",
       "      <td>12718</td>\n",
       "      <td>13762</td>\n",
       "    </tr>\n",
       "    <tr>\n",
       "      <th>(362.0, 371.0]</th>\n",
       "      <td>868</td>\n",
       "      <td>10689</td>\n",
       "      <td>11557</td>\n",
       "      <td>186</td>\n",
       "      <td>2701</td>\n",
       "      <td>2887</td>\n",
       "      <td>1054</td>\n",
       "      <td>13390</td>\n",
       "      <td>14444</td>\n",
       "    </tr>\n",
       "    <tr>\n",
       "      <th>(371.0, 385.0]</th>\n",
       "      <td>886</td>\n",
       "      <td>11444</td>\n",
       "      <td>12330</td>\n",
       "      <td>192</td>\n",
       "      <td>2887</td>\n",
       "      <td>3079</td>\n",
       "      <td>1078</td>\n",
       "      <td>14331</td>\n",
       "      <td>15409</td>\n",
       "    </tr>\n",
       "    <tr>\n",
       "      <th>(385.0, 388.0]</th>\n",
       "      <td>900</td>\n",
       "      <td>12228</td>\n",
       "      <td>13128</td>\n",
       "      <td>197</td>\n",
       "      <td>3092</td>\n",
       "      <td>3289</td>\n",
       "      <td>1097</td>\n",
       "      <td>15320</td>\n",
       "      <td>16417</td>\n",
       "    </tr>\n",
       "    <tr>\n",
       "      <th>(388.0, 396.0]</th>\n",
       "      <td>925</td>\n",
       "      <td>13324</td>\n",
       "      <td>14249</td>\n",
       "      <td>200</td>\n",
       "      <td>3364</td>\n",
       "      <td>3564</td>\n",
       "      <td>1125</td>\n",
       "      <td>16688</td>\n",
       "      <td>17813</td>\n",
       "    </tr>\n",
       "    <tr>\n",
       "      <th>(396.0, 399.0]</th>\n",
       "      <td>925</td>\n",
       "      <td>13425</td>\n",
       "      <td>14350</td>\n",
       "      <td>200</td>\n",
       "      <td>3387</td>\n",
       "      <td>3587</td>\n",
       "      <td>1125</td>\n",
       "      <td>16812</td>\n",
       "      <td>17937</td>\n",
       "    </tr>\n",
       "  </tbody>\n",
       "</table>\n",
       "</div>"
      ],
      "text/plain": [
       "index           Cum_Bad_dev  Cum_Good_dev  ...  Cum_Good_All  Cum_Total_All\n",
       "Score                                      ...                             \n",
       "(116.0, 154.0]          133           569  ...           715            883\n",
       "(154.0, 193.0]          260          1290  ...          1639           1954\n",
       "(193.0, 210.0]          338          1807  ...          2289           2697\n",
       "(210.0, 218.0]          411          2464  ...          3107           3607\n",
       "(218.0, 227.0]          490          3089  ...          3909           4501\n",
       "(227.0, 237.0]          556          3795  ...          4794           5465\n",
       "(237.0, 255.0]          604          4471  ...          5641           6372\n",
       "(255.0, 266.0]          653          5154  ...          6539           7329\n",
       "(266.0, 275.0]          688          5759  ...          7285           8116\n",
       "(275.0, 304.0]          730          6528  ...          8260           9143\n",
       "(304.0, 318.0]          754          7139  ...          9009           9921\n",
       "(318.0, 335.0]          784          7936  ...          9993          10946\n",
       "(335.0, 340.0]          816          8559  ...         10770          11760\n",
       "(340.0, 354.0]          833          9212  ...         11599          12610\n",
       "(354.0, 362.0]          859         10139  ...         12718          13762\n",
       "(362.0, 371.0]          868         10689  ...         13390          14444\n",
       "(371.0, 385.0]          886         11444  ...         14331          15409\n",
       "(385.0, 388.0]          900         12228  ...         15320          16417\n",
       "(388.0, 396.0]          925         13324  ...         16688          17813\n",
       "(396.0, 399.0]          925         13425  ...         16812          17937\n",
       "\n",
       "[20 rows x 9 columns]"
      ]
     },
     "execution_count": 75,
     "metadata": {
      "tags": []
     },
     "output_type": "execute_result"
    }
   ],
   "source": [
    "df_combined = df_combined.rename(columns=rename2)\n",
    "df_combined"
   ]
  },
  {
   "cell_type": "code",
   "execution_count": null,
   "metadata": {
    "id": "PYDkbD7QXKTZ"
   },
   "outputs": [],
   "source": [
    "df_combined['Cum_%_Bad_dev'] = round(df_combined['Cum_Bad_dev']/df_combined.iloc[-1,0]*100,2)\n",
    "df_combined['Cum_%_Bad_val'] = round(df_combined['Cum_Bad_val']/df_combined.iloc[-1,3]*100,2)\n",
    "df_combined['Cum_%_Bad_All'] = round(df_combined['Cum_Bad_All']/df_combined.iloc[-1,6]*100,2)"
   ]
  },
  {
   "cell_type": "code",
   "execution_count": null,
   "metadata": {
    "id": "LR_Ynr7RXPLb"
   },
   "outputs": [],
   "source": [
    "df_combined['Cum_%_Good_dev'] = round(df_combined['Cum_Good_dev']/df_combined.iloc[-1,1]*100,2)\n",
    "df_combined['Cum_%_Good_val'] = round(df_combined['Cum_Good_val']/df_combined.iloc[-1,4]*100,2)\n",
    "df_combined['Cum_%_Good_All'] = round(df_combined['Cum_Good_All']/df_combined.iloc[-1,7]*100,2)"
   ]
  },
  {
   "cell_type": "code",
   "execution_count": null,
   "metadata": {
    "id": "tRQ1v7BsXQf-"
   },
   "outputs": [],
   "source": [
    "df_combined['Cum_%_Total_dev'] = round(df_combined['Cum_Total_dev']/df_combined.iloc[-1,2]*100,2)\n",
    "df_combined['Cum_%_Total_val'] = round(df_combined['Cum_Total_val']/df_combined.iloc[-1,5]*100,2)\n",
    "df_combined['Cum_%_Total_All'] = round(df_combined['Cum_Total_All']/df_combined.iloc[-1,8]*100,2)"
   ]
  },
  {
   "cell_type": "code",
   "execution_count": null,
   "metadata": {
    "colab": {
     "base_uri": "https://localhost:8080/"
    },
    "executionInfo": {
     "elapsed": 317,
     "status": "ok",
     "timestamp": 1625136495140,
     "user": {
      "displayName": "Juliana Staeva",
      "photoUrl": "https://lh3.googleusercontent.com/a-/AOh14GgSz4ONtpn5ahQX3v56fic4vTth-KNS6KRCB_n55g=s64",
      "userId": "02722631212774841828"
     },
     "user_tz": -180
    },
    "id": "JJQRKc0nrbmt",
    "outputId": "cc45ae23-146b-41ac-e7a4-b1a9581e998f"
   },
   "outputs": [
    {
     "name": "stdout",
     "output_type": "stream",
     "text": [
      "Score\n",
      "(116.0, 154.0]     14.93\n",
      "(154.0, 193.0]     28.00\n",
      "(193.0, 210.0]     36.27\n",
      "(210.0, 218.0]     44.44\n",
      "(218.0, 227.0]     52.62\n",
      "(227.0, 237.0]     59.64\n",
      "(237.0, 255.0]     64.98\n",
      "(255.0, 266.0]     70.22\n",
      "(266.0, 275.0]     73.87\n",
      "(275.0, 304.0]     78.49\n",
      "(304.0, 318.0]     81.07\n",
      "(318.0, 335.0]     84.71\n",
      "(335.0, 340.0]     88.00\n",
      "(340.0, 354.0]     89.87\n",
      "(354.0, 362.0]     92.80\n",
      "(362.0, 371.0]     93.69\n",
      "(371.0, 385.0]     95.82\n",
      "(385.0, 388.0]     97.51\n",
      "(388.0, 396.0]    100.00\n",
      "(396.0, 399.0]    100.00\n",
      "Name: Cum_%_Bad_All, dtype: float64\n"
     ]
    }
   ],
   "source": [
    "print(df_combined['Cum_%_Bad_All'])"
   ]
  },
  {
   "cell_type": "code",
   "execution_count": null,
   "metadata": {
    "colab": {
     "base_uri": "https://localhost:8080/"
    },
    "executionInfo": {
     "elapsed": 307,
     "status": "ok",
     "timestamp": 1625136516625,
     "user": {
      "displayName": "Juliana Staeva",
      "photoUrl": "https://lh3.googleusercontent.com/a-/AOh14GgSz4ONtpn5ahQX3v56fic4vTth-KNS6KRCB_n55g=s64",
      "userId": "02722631212774841828"
     },
     "user_tz": -180
    },
    "id": "9c6cYBTErwMu",
    "outputId": "ed8322d1-4de5-4832-ee03-e12d9fe21bc6"
   },
   "outputs": [
    {
     "name": "stdout",
     "output_type": "stream",
     "text": [
      "Score\n",
      "(116.0, 154.0]      4.25\n",
      "(154.0, 193.0]      9.75\n",
      "(193.0, 210.0]     13.62\n",
      "(210.0, 218.0]     18.48\n",
      "(218.0, 227.0]     23.25\n",
      "(227.0, 237.0]     28.52\n",
      "(237.0, 255.0]     33.55\n",
      "(255.0, 266.0]     38.89\n",
      "(266.0, 275.0]     43.33\n",
      "(275.0, 304.0]     49.13\n",
      "(304.0, 318.0]     53.59\n",
      "(318.0, 335.0]     59.44\n",
      "(335.0, 340.0]     64.06\n",
      "(340.0, 354.0]     68.99\n",
      "(354.0, 362.0]     75.65\n",
      "(362.0, 371.0]     79.65\n",
      "(371.0, 385.0]     85.24\n",
      "(385.0, 388.0]     91.13\n",
      "(388.0, 396.0]     99.26\n",
      "(396.0, 399.0]    100.00\n",
      "Name: Cum_%_Good_All, dtype: float64\n"
     ]
    }
   ],
   "source": [
    "print(df_combined['Cum_%_Good_All'])"
   ]
  },
  {
   "cell_type": "code",
   "execution_count": null,
   "metadata": {
    "id": "QdPBbYsoXY-I"
   },
   "outputs": [],
   "source": [
    "df_combined['dev_val_cum_%_diff_bad'] = abs(df_combined['Cum_%_Bad_dev'] - df_combined['Cum_%_Bad_val'])\n",
    "df_combined['dev_all_cum_%_diff_bad'] = abs(df_combined['Cum_%_Bad_dev'] - df_combined['Cum_%_Bad_All'])\n",
    "df_combined['val_all_cum_%_diff_bad'] = abs(df_combined['Cum_%_Bad_val'] -  df_combined['Cum_%_Bad_All'])"
   ]
  },
  {
   "cell_type": "code",
   "execution_count": null,
   "metadata": {
    "id": "IGlHJPQzXb49"
   },
   "outputs": [],
   "source": [
    "df_combined['dev_val_cum_%_diff_good'] = abs(df_combined['Cum_%_Good_dev'] - df_combined['Cum_%_Good_val'])\n",
    "df_combined['dev_all_cum_%_diff_good'] = abs(df_combined['Cum_%_Good_dev'] - df_combined['Cum_%_Good_All'])\n",
    "df_combined['val_all_cum_%_diff_good'] = abs(df_combined['Cum_%_Good_val'] - df_combined['Cum_%_Good_All'])"
   ]
  },
  {
   "cell_type": "code",
   "execution_count": null,
   "metadata": {
    "id": "dY7awJn5Xez3"
   },
   "outputs": [],
   "source": [
    "df_combined['dev_val_cum_%_diff_total'] = abs(df_combined['Cum_%_Total_dev'] - df_combined['Cum_%_Total_val'])\n",
    "df_combined['dev_all_cum_%_diff_total'] = abs(df_combined['Cum_%_Total_dev'] - df_combined['Cum_%_Total_All'])\n",
    "df_combined['val_all_cum_%_diff_total'] = abs(df_combined['Cum_%_Total_val'] - df_combined['Cum_%_Total_All'])"
   ]
  },
  {
   "cell_type": "markdown",
   "metadata": {
    "id": "hefWBGlvXiAM"
   },
   "source": [
    "KS TEST"
   ]
  },
  {
   "cell_type": "code",
   "execution_count": null,
   "metadata": {
    "id": "L3zMj8EfXlnB"
   },
   "outputs": [],
   "source": [
    "KS_dev_val_bad = round(1.358*np.sqrt((df_combined.iloc[-1,0] + df_combined.iloc[-1,3])/(df_combined.iloc[-1,0]*df_combined.iloc[-1,3]))*100,2)\n",
    "KS_dev_all_bad = round(1.358*np.sqrt((df_combined.iloc[-1,0] + df_combined.iloc[-1,6])/(df_combined.iloc[-1,0]*df_combined.iloc[-1,6]))*100,2)\n",
    "KS_val_all_bad = round(1.358*np.sqrt((df_combined.iloc[-1,3] + df_combined.iloc[-1,6])/(df_combined.iloc[-1,3]*df_combined.iloc[-1,6]))*100,2)\n",
    "\n",
    "KS_dev_val_good = round(1.358*np.sqrt((df_combined.iloc[-1,1] + df_combined.iloc[-1,4])/(df_combined.iloc[-1,1]*df_combined.iloc[-1,4]))*100,2)\n",
    "KS_dev_all_good = round(1.358*np.sqrt((df_combined.iloc[-1,1] + df_combined.iloc[-1,7])/(df_combined.iloc[-1,1]*df_combined.iloc[-1,7]))*100,2)\n",
    "KS_val_all_good = round(1.358*np.sqrt((df_combined.iloc[-1,4] + df_combined.iloc[-1,7])/(df_combined.iloc[-1,4]*df_combined.iloc[-1,7]))*100,2)\n",
    "\n",
    "KS_dev_val_total = round(1.358*np.sqrt((df_combined.iloc[-1,2] + df_combined.iloc[-1,5])/(df_combined.iloc[-1,2]*df_combined.iloc[-1,5]))*100,2)\n",
    "KS_dev_all_total = round(1.358*np.sqrt((df_combined.iloc[-1,2] + df_combined.iloc[-1,8])/(df_combined.iloc[-1,2]*df_combined.iloc[-1,8]))*100,2)\n",
    "KS_val_all_total = round(1.358*np.sqrt((df_combined.iloc[-1,5] + df_combined.iloc[-1,8])/(df_combined.iloc[-1,5]*df_combined.iloc[-1,8]))*100,2)"
   ]
  },
  {
   "cell_type": "code",
   "execution_count": null,
   "metadata": {
    "id": "w3irtZK0XoiW"
   },
   "outputs": [],
   "source": [
    "test = {'dev_val_cum_%_diff_bad': KS_dev_val_bad,\n",
    "        'dev_all_cum_%_diff_bad': KS_dev_all_bad,\n",
    "        'val_all_cum_%_diff_bad': KS_val_all_bad, \n",
    "        \n",
    "        'dev_val_cum_%_diff_good':KS_dev_val_good, \n",
    "        'dev_all_cum_%_diff_good': KS_dev_all_good, \n",
    "        'val_all_cum_%_diff_good': KS_val_all_good,\n",
    "        \n",
    "        'dev_val_cum_%_diff_total': KS_dev_val_total, \n",
    "        'dev_all_cum_%_diff_total':KS_dev_all_total, \n",
    "        'val_all_cum_%_diff_total':KS_val_all_total}"
   ]
  },
  {
   "cell_type": "code",
   "execution_count": null,
   "metadata": {
    "id": "kk3nGW5NXrVP"
   },
   "outputs": [],
   "source": [
    "validation = {}\n",
    "for key, value in test.items():\n",
    "    if df_combined[key].max() < value:\n",
    "        validation[key] = 'Valid'\n",
    "    else:\n",
    "        validation[key] = 'Invalid'"
   ]
  },
  {
   "cell_type": "code",
   "execution_count": null,
   "metadata": {
    "colab": {
     "base_uri": "https://localhost:8080/"
    },
    "executionInfo": {
     "elapsed": 500,
     "status": "ok",
     "timestamp": 1624001624727,
     "user": {
      "displayName": "Juliana Staeva",
      "photoUrl": "https://lh3.googleusercontent.com/a-/AOh14GgSz4ONtpn5ahQX3v56fic4vTth-KNS6KRCB_n55g=s64",
      "userId": "02722631212774841828"
     },
     "user_tz": -180
    },
    "id": "BFXHi0I3Xw_9",
    "outputId": "17c0d5fc-e374-4a1f-e0bc-da41fbfa9ec7"
   },
   "outputs": [
    {
     "name": "stdout",
     "output_type": "stream",
     "text": [
      "dev_val_cum_%_diff_bad is Valid!\n",
      "dev_all_cum_%_diff_bad is Valid!\n",
      "val_all_cum_%_diff_bad is Valid!\n",
      "dev_val_cum_%_diff_good is Valid!\n",
      "dev_all_cum_%_diff_good is Valid!\n",
      "val_all_cum_%_diff_good is Valid!\n",
      "dev_val_cum_%_diff_total is Valid!\n",
      "dev_all_cum_%_diff_total is Valid!\n",
      "val_all_cum_%_diff_total is Valid!\n"
     ]
    }
   ],
   "source": [
    "for key, value in validation.items():\n",
    "    print(f'{key} is {value}!')"
   ]
  }
 ],
 "metadata": {
  "colab": {
   "authorship_tag": "ABX9TyPBEAaFI6FaY3FS+6u4VDmr",
   "collapsed_sections": [],
   "name": "Application Score Model.ipynb",
   "provenance": []
  },
  "kernelspec": {
   "display_name": "Python 3 (ipykernel)",
   "language": "python",
   "name": "python3"
  },
  "language_info": {
   "codemirror_mode": {
    "name": "ipython",
    "version": 3
   },
   "file_extension": ".py",
   "mimetype": "text/x-python",
   "name": "python",
   "nbconvert_exporter": "python",
   "pygments_lexer": "ipython3",
   "version": "3.8.10"
  }
 },
 "nbformat": 4,
 "nbformat_minor": 1
}
